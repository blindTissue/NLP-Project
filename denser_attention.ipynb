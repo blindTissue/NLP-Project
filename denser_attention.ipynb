{
  "cells": [
    {
      "cell_type": "markdown",
      "metadata": {
        "id": "view-in-github",
        "colab_type": "text"
      },
      "source": [
        "<a href=\"https://colab.research.google.com/github/blindTissue/NLP-Project/blob/main/denser_attention.ipynb\" target=\"_parent\"><img src=\"https://colab.research.google.com/assets/colab-badge.svg\" alt=\"Open In Colab\"/></a>"
      ]
    },
    {
      "cell_type": "code",
      "execution_count": null,
      "metadata": {
        "colab": {
          "background_save": true,
          "base_uri": "https://localhost:8080/"
        },
        "id": "6dhpg0JhJP8x",
        "outputId": "34f1dc11-d4a2-44fe-a440-4efd76d96a7d"
      },
      "outputs": [
        {
          "name": "stdout",
          "output_type": "stream",
          "text": [
            "Looking in indexes: https://pypi.org/simple, https://us-python.pkg.dev/colab-wheels/public/simple/\n",
            "Collecting transformers\n",
            "  Downloading transformers-4.28.1-py3-none-any.whl (7.0 MB)\n",
            "\u001b[2K     \u001b[90m━━━━━━━━━━━━━━━━━━━━━━━━━━━━━━━━━━━━━━━━\u001b[0m \u001b[32m7.0/7.0 MB\u001b[0m \u001b[31m61.1 MB/s\u001b[0m eta \u001b[36m0:00:00\u001b[0m\n",
            "\u001b[?25hRequirement already satisfied: numpy>=1.17 in /usr/local/lib/python3.10/dist-packages (from transformers) (1.22.4)\n",
            "Requirement already satisfied: packaging>=20.0 in /usr/local/lib/python3.10/dist-packages (from transformers) (23.1)\n",
            "Requirement already satisfied: regex!=2019.12.17 in /usr/local/lib/python3.10/dist-packages (from transformers) (2022.10.31)\n",
            "Requirement already satisfied: tqdm>=4.27 in /usr/local/lib/python3.10/dist-packages (from transformers) (4.65.0)\n",
            "Collecting tokenizers!=0.11.3,<0.14,>=0.11.1\n",
            "  Downloading tokenizers-0.13.3-cp310-cp310-manylinux_2_17_x86_64.manylinux2014_x86_64.whl (7.8 MB)\n",
            "\u001b[2K     \u001b[90m━━━━━━━━━━━━━━━━━━━━━━━━━━━━━━━━━━━━━━━━\u001b[0m \u001b[32m7.8/7.8 MB\u001b[0m \u001b[31m77.7 MB/s\u001b[0m eta \u001b[36m0:00:00\u001b[0m\n",
            "\u001b[?25hRequirement already satisfied: filelock in /usr/local/lib/python3.10/dist-packages (from transformers) (3.12.0)\n",
            "Requirement already satisfied: requests in /usr/local/lib/python3.10/dist-packages (from transformers) (2.27.1)\n",
            "Requirement already satisfied: pyyaml>=5.1 in /usr/local/lib/python3.10/dist-packages (from transformers) (6.0)\n",
            "Collecting huggingface-hub<1.0,>=0.11.0\n",
            "  Downloading huggingface_hub-0.14.1-py3-none-any.whl (224 kB)\n",
            "\u001b[2K     \u001b[90m━━━━━━━━━━━━━━━━━━━━━━━━━━━━━━━━━━━━━━\u001b[0m \u001b[32m224.5/224.5 kB\u001b[0m \u001b[31m14.8 MB/s\u001b[0m eta \u001b[36m0:00:00\u001b[0m\n",
            "\u001b[?25hRequirement already satisfied: typing-extensions>=3.7.4.3 in /usr/local/lib/python3.10/dist-packages (from huggingface-hub<1.0,>=0.11.0->transformers) (4.5.0)\n",
            "Requirement already satisfied: fsspec in /usr/local/lib/python3.10/dist-packages (from huggingface-hub<1.0,>=0.11.0->transformers) (2023.4.0)\n",
            "Requirement already satisfied: idna<4,>=2.5 in /usr/local/lib/python3.10/dist-packages (from requests->transformers) (3.4)\n",
            "Requirement already satisfied: charset-normalizer~=2.0.0 in /usr/local/lib/python3.10/dist-packages (from requests->transformers) (2.0.12)\n",
            "Requirement already satisfied: certifi>=2017.4.17 in /usr/local/lib/python3.10/dist-packages (from requests->transformers) (2022.12.7)\n",
            "Requirement already satisfied: urllib3<1.27,>=1.21.1 in /usr/local/lib/python3.10/dist-packages (from requests->transformers) (1.26.15)\n",
            "Installing collected packages: tokenizers, huggingface-hub, transformers\n",
            "Successfully installed huggingface-hub-0.14.1 tokenizers-0.13.3 transformers-4.28.1\n",
            "Looking in indexes: https://pypi.org/simple, https://us-python.pkg.dev/colab-wheels/public/simple/\n",
            "Collecting datasets\n",
            "  Downloading datasets-2.12.0-py3-none-any.whl (474 kB)\n",
            "\u001b[2K     \u001b[90m━━━━━━━━━━━━━━━━━━━━━━━━━━━━━━━━━━━━━━\u001b[0m \u001b[32m474.6/474.6 kB\u001b[0m \u001b[31m16.3 MB/s\u001b[0m eta \u001b[36m0:00:00\u001b[0m\n",
            "\u001b[?25hRequirement already satisfied: tqdm>=4.62.1 in /usr/local/lib/python3.10/dist-packages (from datasets) (4.65.0)\n",
            "Collecting multiprocess\n",
            "  Downloading multiprocess-0.70.14-py310-none-any.whl (134 kB)\n",
            "\u001b[2K     \u001b[90m━━━━━━━━━━━━━━━━━━━━━━━━━━━━━━━━━━━━━━\u001b[0m \u001b[32m134.3/134.3 kB\u001b[0m \u001b[31m14.9 MB/s\u001b[0m eta \u001b[36m0:00:00\u001b[0m\n",
            "\u001b[?25hRequirement already satisfied: requests>=2.19.0 in /usr/local/lib/python3.10/dist-packages (from datasets) (2.27.1)\n",
            "Collecting dill<0.3.7,>=0.3.0\n",
            "  Downloading dill-0.3.6-py3-none-any.whl (110 kB)\n",
            "\u001b[2K     \u001b[90m━━━━━━━━━━━━━━━━━━━━━━━━━━━━━━━━━━━━━━\u001b[0m \u001b[32m110.5/110.5 kB\u001b[0m \u001b[31m13.9 MB/s\u001b[0m eta \u001b[36m0:00:00\u001b[0m\n",
            "\u001b[?25hRequirement already satisfied: huggingface-hub<1.0.0,>=0.11.0 in /usr/local/lib/python3.10/dist-packages (from datasets) (0.14.1)\n",
            "Requirement already satisfied: packaging in /usr/local/lib/python3.10/dist-packages (from datasets) (23.1)\n",
            "Requirement already satisfied: pandas in /usr/local/lib/python3.10/dist-packages (from datasets) (1.5.3)\n",
            "Collecting xxhash\n",
            "  Downloading xxhash-3.2.0-cp310-cp310-manylinux_2_17_x86_64.manylinux2014_x86_64.whl (212 kB)\n",
            "\u001b[2K     \u001b[90m━━━━━━━━━━━━━━━━━━━━━━━━━━━━━━━━━━━━━━\u001b[0m \u001b[32m212.5/212.5 kB\u001b[0m \u001b[31m11.3 MB/s\u001b[0m eta \u001b[36m0:00:00\u001b[0m\n",
            "\u001b[?25hCollecting aiohttp\n",
            "  Downloading aiohttp-3.8.4-cp310-cp310-manylinux_2_17_x86_64.manylinux2014_x86_64.whl (1.0 MB)\n",
            "\u001b[2K     \u001b[90m━━━━━━━━━━━━━━━━━━━━━━━━━━━━━━━━━━━━━━━━\u001b[0m \u001b[32m1.0/1.0 MB\u001b[0m \u001b[31m8.2 MB/s\u001b[0m eta \u001b[36m0:00:00\u001b[0m\n",
            "\u001b[?25hRequirement already satisfied: pyyaml>=5.1 in /usr/local/lib/python3.10/dist-packages (from datasets) (6.0)\n",
            "Requirement already satisfied: numpy>=1.17 in /usr/local/lib/python3.10/dist-packages (from datasets) (1.22.4)\n",
            "Collecting responses<0.19\n",
            "  Downloading responses-0.18.0-py3-none-any.whl (38 kB)\n",
            "Requirement already satisfied: pyarrow>=8.0.0 in /usr/local/lib/python3.10/dist-packages (from datasets) (9.0.0)\n",
            "Requirement already satisfied: fsspec[http]>=2021.11.1 in /usr/local/lib/python3.10/dist-packages (from datasets) (2023.4.0)\n",
            "Requirement already satisfied: charset-normalizer<4.0,>=2.0 in /usr/local/lib/python3.10/dist-packages (from aiohttp->datasets) (2.0.12)\n",
            "Requirement already satisfied: attrs>=17.3.0 in /usr/local/lib/python3.10/dist-packages (from aiohttp->datasets) (23.1.0)\n",
            "Collecting aiosignal>=1.1.2\n",
            "  Downloading aiosignal-1.3.1-py3-none-any.whl (7.6 kB)\n",
            "Collecting multidict<7.0,>=4.5\n",
            "  Downloading multidict-6.0.4-cp310-cp310-manylinux_2_17_x86_64.manylinux2014_x86_64.whl (114 kB)\n",
            "\u001b[2K     \u001b[90m━━━━━━━━━━━━━━━━━━━━━━━━━━━━━━━━━━━━━━━\u001b[0m \u001b[32m114.5/114.5 kB\u001b[0m \u001b[31m1.5 MB/s\u001b[0m eta \u001b[36m0:00:00\u001b[0m\n",
            "\u001b[?25hCollecting yarl<2.0,>=1.0\n",
            "  Downloading yarl-1.9.2-cp310-cp310-manylinux_2_17_x86_64.manylinux2014_x86_64.whl (268 kB)\n",
            "\u001b[2K     \u001b[90m━━━━━━━━━━━━━━━━━━━━━━━━━━━━━━━━━━━━━━━\u001b[0m \u001b[32m268.8/268.8 kB\u001b[0m \u001b[31m4.2 MB/s\u001b[0m eta \u001b[36m0:00:00\u001b[0m\n",
            "\u001b[?25hCollecting frozenlist>=1.1.1\n",
            "  Downloading frozenlist-1.3.3-cp310-cp310-manylinux_2_5_x86_64.manylinux1_x86_64.manylinux_2_17_x86_64.manylinux2014_x86_64.whl (149 kB)\n",
            "\u001b[2K     \u001b[90m━━━━━━━━━━━━━━━━━━━━━━━━━━━━━━━━━━━━━━\u001b[0m \u001b[32m149.6/149.6 kB\u001b[0m \u001b[31m19.6 MB/s\u001b[0m eta \u001b[36m0:00:00\u001b[0m\n",
            "\u001b[?25hCollecting async-timeout<5.0,>=4.0.0a3\n",
            "  Downloading async_timeout-4.0.2-py3-none-any.whl (5.8 kB)\n",
            "Requirement already satisfied: typing-extensions>=3.7.4.3 in /usr/local/lib/python3.10/dist-packages (from huggingface-hub<1.0.0,>=0.11.0->datasets) (4.5.0)\n",
            "Requirement already satisfied: filelock in /usr/local/lib/python3.10/dist-packages (from huggingface-hub<1.0.0,>=0.11.0->datasets) (3.12.0)\n",
            "Requirement already satisfied: certifi>=2017.4.17 in /usr/local/lib/python3.10/dist-packages (from requests>=2.19.0->datasets) (2022.12.7)\n",
            "Requirement already satisfied: urllib3<1.27,>=1.21.1 in /usr/local/lib/python3.10/dist-packages (from requests>=2.19.0->datasets) (1.26.15)\n",
            "Requirement already satisfied: idna<4,>=2.5 in /usr/local/lib/python3.10/dist-packages (from requests>=2.19.0->datasets) (3.4)\n",
            "Requirement already satisfied: python-dateutil>=2.8.1 in /usr/local/lib/python3.10/dist-packages (from pandas->datasets) (2.8.2)\n",
            "Requirement already satisfied: pytz>=2020.1 in /usr/local/lib/python3.10/dist-packages (from pandas->datasets) (2022.7.1)\n",
            "Requirement already satisfied: six>=1.5 in /usr/local/lib/python3.10/dist-packages (from python-dateutil>=2.8.1->pandas->datasets) (1.16.0)\n",
            "Installing collected packages: xxhash, multidict, frozenlist, dill, async-timeout, yarl, responses, multiprocess, aiosignal, aiohttp, datasets\n",
            "Successfully installed aiohttp-3.8.4 aiosignal-1.3.1 async-timeout-4.0.2 datasets-2.12.0 dill-0.3.6 frozenlist-1.3.3 multidict-6.0.4 multiprocess-0.70.14 responses-0.18.0 xxhash-3.2.0 yarl-1.9.2\n"
          ]
        }
      ],
      "source": [
        "!pip install transformers\n",
        "!pip install datasets\n",
        "from datasets import load_dataset\n",
        "import torch\n",
        "from transformers import AutoTokenizer\n",
        "from torch.utils.data import DataLoader\n",
        "import torch\n",
        "import torch.nn as nn\n",
        "import math\n",
        "import numpy as np\n"
      ]
    },
    {
      "cell_type": "code",
      "execution_count": null,
      "metadata": {
        "colab": {
          "background_save": true,
          "referenced_widgets": [
            "75beac03ca5740c7b8cee99143720eb0",
            "83f3ac1e7ca94e1c978f7a2049778f17",
            "6436f1fcdf77473c8ed9fccbafd26ac9",
            "2df63859564240ddb87d20ac64f2e42c",
            "bc077495738d400ea777fc182efd5842",
            "4b0f40d2a41c4c68807b09496e831417",
            "5f22b550aff64e648371672a760714fe",
            "7e76165ce06c4d8c84d7fc4be690407d",
            "f793b5c9f3394d90b06a1228a317ef7a",
            "8fa2271c981b47e89065c4a98e1728df",
            "44fa7a95d6ff4d38b7eb649b968134f6",
            "5eb3b1c189a84476944c0231ed078414",
            "a11b5f33d8a740a9ade39ccd388bb273"
          ]
        },
        "id": "IPJO-nT4_BsQ",
        "outputId": "7f67fb7d-0956-4daf-8299-1dd60169b34d"
      },
      "outputs": [
        {
          "data": {
            "application/vnd.jupyter.widget-view+json": {
              "model_id": "75beac03ca5740c7b8cee99143720eb0",
              "version_major": 2,
              "version_minor": 0
            },
            "text/plain": [
              "Downloading builder script:   0%|          | 0.00/3.38k [00:00<?, ?B/s]"
            ]
          },
          "metadata": {},
          "output_type": "display_data"
        },
        {
          "data": {
            "application/vnd.jupyter.widget-view+json": {
              "model_id": "83f3ac1e7ca94e1c978f7a2049778f17",
              "version_major": 2,
              "version_minor": 0
            },
            "text/plain": [
              "Downloading metadata:   0%|          | 0.00/1.91k [00:00<?, ?B/s]"
            ]
          },
          "metadata": {},
          "output_type": "display_data"
        },
        {
          "data": {
            "application/vnd.jupyter.widget-view+json": {
              "model_id": "6436f1fcdf77473c8ed9fccbafd26ac9",
              "version_major": 2,
              "version_minor": 0
            },
            "text/plain": [
              "Downloading readme:   0%|          | 0.00/6.60k [00:00<?, ?B/s]"
            ]
          },
          "metadata": {},
          "output_type": "display_data"
        },
        {
          "name": "stdout",
          "output_type": "stream",
          "text": [
            "Downloading and preparing dataset boolq/default to /root/.cache/huggingface/datasets/boolq/default/0.1.0/bf0dd57da941c50de94ae3ce3cef7fea48c08f337a4b7aac484e9dddc5aa24e5...\n"
          ]
        },
        {
          "data": {
            "application/vnd.jupyter.widget-view+json": {
              "model_id": "2df63859564240ddb87d20ac64f2e42c",
              "version_major": 2,
              "version_minor": 0
            },
            "text/plain": [
              "Downloading data files:   0%|          | 0/2 [00:00<?, ?it/s]"
            ]
          },
          "metadata": {},
          "output_type": "display_data"
        },
        {
          "data": {
            "application/vnd.jupyter.widget-view+json": {
              "model_id": "bc077495738d400ea777fc182efd5842",
              "version_major": 2,
              "version_minor": 0
            },
            "text/plain": [
              "Downloading data:   0%|          | 0.00/6.53M [00:00<?, ?B/s]"
            ]
          },
          "metadata": {},
          "output_type": "display_data"
        },
        {
          "data": {
            "application/vnd.jupyter.widget-view+json": {
              "model_id": "4b0f40d2a41c4c68807b09496e831417",
              "version_major": 2,
              "version_minor": 0
            },
            "text/plain": [
              "Downloading data:   0%|          | 0.00/2.24M [00:00<?, ?B/s]"
            ]
          },
          "metadata": {},
          "output_type": "display_data"
        },
        {
          "data": {
            "application/vnd.jupyter.widget-view+json": {
              "model_id": "5f22b550aff64e648371672a760714fe",
              "version_major": 2,
              "version_minor": 0
            },
            "text/plain": [
              "Generating train split:   0%|          | 0/9427 [00:00<?, ? examples/s]"
            ]
          },
          "metadata": {},
          "output_type": "display_data"
        },
        {
          "data": {
            "application/vnd.jupyter.widget-view+json": {
              "model_id": "7e76165ce06c4d8c84d7fc4be690407d",
              "version_major": 2,
              "version_minor": 0
            },
            "text/plain": [
              "Generating validation split:   0%|          | 0/3270 [00:00<?, ? examples/s]"
            ]
          },
          "metadata": {},
          "output_type": "display_data"
        },
        {
          "name": "stdout",
          "output_type": "stream",
          "text": [
            "Dataset boolq downloaded and prepared to /root/.cache/huggingface/datasets/boolq/default/0.1.0/bf0dd57da941c50de94ae3ce3cef7fea48c08f337a4b7aac484e9dddc5aa24e5. Subsequent calls will reuse this data.\n"
          ]
        },
        {
          "data": {
            "application/vnd.jupyter.widget-view+json": {
              "model_id": "f793b5c9f3394d90b06a1228a317ef7a",
              "version_major": 2,
              "version_minor": 0
            },
            "text/plain": [
              "  0%|          | 0/2 [00:00<?, ?it/s]"
            ]
          },
          "metadata": {},
          "output_type": "display_data"
        },
        {
          "data": {
            "application/vnd.jupyter.widget-view+json": {
              "model_id": "8fa2271c981b47e89065c4a98e1728df",
              "version_major": 2,
              "version_minor": 0
            },
            "text/plain": [
              "Downloading (…)okenizer_config.json:   0%|          | 0.00/28.0 [00:00<?, ?B/s]"
            ]
          },
          "metadata": {},
          "output_type": "display_data"
        },
        {
          "data": {
            "application/vnd.jupyter.widget-view+json": {
              "model_id": "44fa7a95d6ff4d38b7eb649b968134f6",
              "version_major": 2,
              "version_minor": 0
            },
            "text/plain": [
              "Downloading (…)lve/main/config.json:   0%|          | 0.00/570 [00:00<?, ?B/s]"
            ]
          },
          "metadata": {},
          "output_type": "display_data"
        },
        {
          "data": {
            "application/vnd.jupyter.widget-view+json": {
              "model_id": "5eb3b1c189a84476944c0231ed078414",
              "version_major": 2,
              "version_minor": 0
            },
            "text/plain": [
              "Downloading (…)solve/main/vocab.txt:   0%|          | 0.00/232k [00:00<?, ?B/s]"
            ]
          },
          "metadata": {},
          "output_type": "display_data"
        },
        {
          "data": {
            "application/vnd.jupyter.widget-view+json": {
              "model_id": "a11b5f33d8a740a9ade39ccd388bb273",
              "version_major": 2,
              "version_minor": 0
            },
            "text/plain": [
              "Downloading (…)/main/tokenizer.json:   0%|          | 0.00/466k [00:00<?, ?B/s]"
            ]
          },
          "metadata": {},
          "output_type": "display_data"
        }
      ],
      "source": [
        "training_length = 8000\n",
        "validation_length = 2000\n",
        "\n",
        "dataset = load_dataset(\"boolq\")\n",
        "\n",
        "class BoolQADataset(torch.utils.data.Dataset):\n",
        "    \"\"\"\n",
        "    Dataset for the dataset of BoolQ questions and answers\n",
        "    \"\"\"\n",
        "\n",
        "    def __init__(self, passages, questions, answers, tokenizer, max_len):\n",
        "        self.passages = passages\n",
        "        self.questions = questions\n",
        "        self.answers = answers\n",
        "        self.tokenizer = tokenizer\n",
        "        self.max_len = max_len\n",
        "\n",
        "    def __len__(self):\n",
        "        return len(self.answers)\n",
        "\n",
        "    def __getitem__(self, index):\n",
        "        \"\"\"\n",
        "        This function is called by the DataLoader to get an instance of the data\n",
        "        :param index:\n",
        "        :return:\n",
        "        \"\"\"\n",
        "\n",
        "        passage = str(self.passages[index])\n",
        "        question = self.questions[index]\n",
        "        answer = self.answers[index]\n",
        "\n",
        "        # this is input encoding for your model. Note, question comes first since we are doing question answering\n",
        "        # and we don't wnt it to be truncated if the passage is too long\n",
        "        input_encoding = question + \" [SEP] \" + passage\n",
        "\n",
        "        # encode_plus will encode the input and return a dictionary of tensors\n",
        "        encoded_review = self.tokenizer.encode_plus(\n",
        "            input_encoding,\n",
        "            add_special_tokens=True,\n",
        "            max_length=self.max_len,\n",
        "            return_token_type_ids=False,\n",
        "            return_attention_mask=True,\n",
        "            return_tensors=\"pt\",\n",
        "            padding=\"max_length\",\n",
        "            truncation=True\n",
        "        )\n",
        "\n",
        "        return {\n",
        "            'input_ids': encoded_review['input_ids'][0],  # we only have one example in the batch\n",
        "            'attention_mask': encoded_review['attention_mask'][0],\n",
        "            # attention mask tells the model where tokens are padding\n",
        "            'labels': torch.tensor(answer, dtype=torch.long)  # labels are the answers (yes/no)\n",
        "        }\n",
        "\n",
        "dataset['train'][0]\n",
        "\n",
        "dataset_train_subset = dataset['train'][:training_length]\n",
        "#dataset_train_subset = dataset['train'][:100]\n",
        "\n",
        "dataset_dev_subset = dataset['validation'][:validation_length]\n",
        "\n",
        "max_len = 512\n",
        "\n",
        "mytokenizer = AutoTokenizer.from_pretrained(\"bert-base-uncased\")\n",
        "\n",
        "train_dataset = BoolQADataset(\n",
        "        passages=list(dataset_train_subset['passage']),\n",
        "        questions=list(dataset_train_subset['question']),\n",
        "        answers=list(dataset_train_subset['answer']),\n",
        "        tokenizer=mytokenizer,\n",
        "        max_len=max_len\n",
        ")\n",
        "\n",
        "validation_dataset = BoolQADataset(\n",
        "        passages=list(dataset_dev_subset['passage']),\n",
        "        questions=list(dataset_dev_subset['question']),\n",
        "        answers=list(dataset_dev_subset['answer']),\n",
        "        tokenizer=mytokenizer,\n",
        "        max_len=max_len\n",
        "    )\n",
        "\n",
        "train_dataloader = DataLoader(train_dataset, 1)\n",
        "validation_dataloader = DataLoader(validation_dataset, 32)\n",
        "\n"
      ]
    },
    {
      "cell_type": "code",
      "execution_count": null,
      "metadata": {
        "colab": {
          "background_save": true
        },
        "id": "mf5yJhamgBSW"
      },
      "outputs": [],
      "source": [
        "class Embeddings(nn.Module):\n",
        "    def __init__(self, config):\n",
        "        super().__init__()\n",
        "        self.word_embeddings = nn.Embedding(config.vocab_size, config.hidden_size, padding_idx=config.pad_token_id)\n",
        "        self.dropout = nn.Dropout(config.hidden_dropout_prob)\n",
        "        self.LayerNorm = nn.LayerNorm(config.hidden_size, eps=config.layer_norm_eps)\n",
        "    def forward(self, input_ids):\n",
        "        embeddings = self.word_embeddings(input_ids)\n",
        "        embeddings = self.LayerNorm(embeddings)\n",
        "        embeddings = self.dropout(embeddings)\n",
        "        return embeddings\n",
        "    \n",
        "class SelfAttention(nn.Module):\n",
        "    def __init__(self, config):\n",
        "        super().__init__()\n",
        "        assert config.hidden_size % config.num_attention_heads == 0\n",
        "        self.num_attention_heads = config.num_attention_heads\n",
        "        self.attention_head_size = int(config.hidden_size / config.num_attention_heads)\n",
        "        \n",
        "        self.all_head_size = self.num_attention_heads * self.attention_head_size\n",
        "        self.query1 = nn.Linear(config.hidden_size, self.all_head_size)\n",
        "        self.query2 = nn.Linear(config.hidden_size, self.all_head_size)\n",
        "        self.key1 = nn.Linear(config.hidden_size, self.all_head_size)\n",
        "        self.key2 = nn.Linear(config.hidden_size, self.all_head_size)\n",
        "        self.value1 = nn.Linear(config.hidden_size, self.all_head_size)\n",
        "        self.value2 = nn.Linear(config.hidden_size, self.all_head_size)\n",
        "        self.softmax = nn.Softmax(dim=-1)\n",
        "\n",
        "    def transpose_for_scores(self, x):\n",
        "        new_x_shape = x.size()[:-1] + (self.num_attention_heads, self.attention_head_size)\n",
        "        x = x.view(*new_x_shape)\n",
        "        return x.permute(0, 2, 1, 3)\n",
        "    \n",
        "    def forward(self, hidden_states):\n",
        "        query_layer_1 =  self.transpose_for_scores(self.query1(hidden_states))\n",
        "        query_layer_2 =  self.transpose_for_scores(self.query2(hidden_states))\n",
        "        key_layer_1 =  self.transpose_for_scores(self.key1(hidden_states))\n",
        "        key_layer_2 =  self.transpose_for_scores(self.key2(hidden_states))\n",
        "        value_layer_1 =  self.transpose_for_scores(self.value1(hidden_states))\n",
        "        value_layer_2 =  self.transpose_for_scores(self.value2(hidden_states))\n",
        "\n",
        "        attention_scores_1_1 = torch.matmul(query_layer_1, key_layer_1.transpose(-1, -2))\n",
        "        attention_scores_1_2 = torch.matmul(query_layer_1, key_layer_2.transpose(-1, -2))\n",
        "        attention_scores_2_1 = torch.matmul(query_layer_2, key_layer_1.transpose(-1, -2))\n",
        "        attention_scores_2_2 = torch.matmul(query_layer_2, key_layer_2.transpose(-1, -2))\n",
        "\n",
        "        attention_scores_1_1 = attention_scores_1_1 / math.sqrt(self.attention_head_size)\n",
        "        attention_scores_1_2 = attention_scores_1_2 / math.sqrt(self.attention_head_size)\n",
        "        attention_scores_2_1 = attention_scores_2_1 / math.sqrt(self.attention_head_size)\n",
        "        attention_scores_2_2 = attention_scores_2_2 / math.sqrt(self.attention_head_size)\n",
        "\n",
        "        attention_scores_1_1 = self.softmax(attention_scores_1_1)\n",
        "        attention_scores_1_2 = self.softmax(attention_scores_1_2)\n",
        "        attention_scores_2_1 = self.softmax(attention_scores_2_1)\n",
        "        attention_scores_2_2 = self.softmax(attention_scores_2_2)\n",
        "\n",
        "\n",
        "        attention_scores_1 = (attention_scores_1_1 + attention_scores_1_2) / 2\n",
        "        attention_scores_2 = (attention_scores_2_1 + attention_scores_2_2) / 2\n",
        "\n",
        "        context_layer_1 = torch.matmul(attention_scores_1, value_layer_1)\n",
        "        context_layer_2 = torch.matmul(attention_scores_2, value_layer_2)\n",
        "\n",
        "        context_layer_1 = context_layer_1.permute(0, 2, 1, 3).contiguous()\n",
        "        context_layer_2 = context_layer_2.permute(0, 2, 1, 3).contiguous()\n",
        "\n",
        "        new_context_layer_shape_1 = context_layer_1.size()[:-2] + (self.all_head_size,)\n",
        "        new_context_layer_shape_2 = context_layer_2.size()[:-2] + (self.all_head_size,)\n",
        "\n",
        "        context_layer_1 = context_layer_1.view(*new_context_layer_shape_1)\n",
        "        context_layer_2 = context_layer_2.view(*new_context_layer_shape_2)\n",
        "\n",
        "        #stack 1 and 2\n",
        "        context_layer = torch.cat((context_layer_1, context_layer_2), dim=2)\n",
        "\n",
        "        return context_layer\n",
        "    \n",
        "class SelfOutput(nn.Module):\n",
        "    def __init__(self, config):\n",
        "        super().__init__()\n",
        "        self.dense = nn.Linear(config.hidden_size*2, config.hidden_size)\n",
        "        self.dropout = nn.Dropout(config.hidden_dropout_prob)\n",
        "        self.LayerNorm = nn.LayerNorm(config.hidden_size, eps=config.layer_norm_eps)\n",
        "    def forward(self, hidden_states, input_tensor):\n",
        "        hidden_states = self.dense(hidden_states)\n",
        "        hidden_states = self.dropout(hidden_states)\n",
        "        hidden_states = self.LayerNorm(hidden_states + input_tensor)\n",
        "        return hidden_states\n",
        "    \n",
        "\n",
        "\n",
        "class mid(nn.Module):\n",
        "    def __init__(self, config):\n",
        "        super().__init__()\n",
        "        self.emb = Embeddings(config)\n",
        "        self.sa = SelfAttention(config)\n",
        "        self.sa_output = SelfOutput(config)\n",
        "    def forward(self, input_tensor):\n",
        "        embedding_output = self.emb(input_tensor)\n",
        "        self_output = self.sa(embedding_output)\n",
        "        attention_output = self.sa_output(self_output, embedding_output)\n",
        "        return attention_output\n",
        "    \n",
        "class Attention(nn.Module):\n",
        "    def __init__(self, config):\n",
        "        super().__init__()\n",
        "        self.self = SelfAttention(config)\n",
        "        self.output = SelfOutput(config)\n",
        "    def forward(self, input_tensor):\n",
        "        self_output = self.self(input_tensor)\n",
        "        attention_output = self.output(self_output, input_tensor)\n",
        "        return attention_output\n",
        "    \n",
        "class Intermediate(nn.Module):\n",
        "    def __init__(self, config):\n",
        "        super().__init__()\n",
        "        self.dense = nn.Linear(config.hidden_size, config.intermediate_size)\n",
        "    def forward(self, hidden_states):\n",
        "        hidden_states = self.dense(hidden_states)\n",
        "        hidden_states = nn.functional.gelu(hidden_states)\n",
        "        return hidden_states\n",
        "    \n",
        "class Output(nn.Module):\n",
        "    def __init__(self, config):\n",
        "        super().__init__()\n",
        "        self.dense = nn.Linear(config.intermediate_size, config.hidden_size)\n",
        "        self.dropout = nn.Dropout(config.hidden_dropout_prob)\n",
        "        self.LayerNorm = nn.LayerNorm(config.hidden_size, eps=config.layer_norm_eps)\n",
        "    def forward(self, hidden_states, input_tensor):\n",
        "        hidden_states = self.dense(hidden_states)\n",
        "        hidden_states = self.dropout(hidden_states)\n",
        "        hidden_states = self.LayerNorm(hidden_states + input_tensor)\n",
        "        return hidden_states\n",
        "\n",
        "class Layer(nn.Module):\n",
        "    def __init__(self, config):\n",
        "        super().__init__()\n",
        "        self.attention = Attention(config)\n",
        "        self.intermediate = Intermediate(config)\n",
        "        self.output = Output(config)\n",
        "    def forward(self, hidden_states):\n",
        "        attention_output = self.attention(hidden_states)\n",
        "        intermediate_output = self.intermediate(attention_output)\n",
        "        layer_output = self.output(intermediate_output, attention_output)\n",
        "        return layer_output\n",
        "    \n",
        "class Encoder(nn.Module):\n",
        "    def __init__(self, config):\n",
        "        super().__init__()\n",
        "        self.layer = nn.ModuleList([Layer(config) for _ in range(config.num_hidden_layers)])\n",
        "    def forward(self, hidden_states):\n",
        "        for layer_module in self.layer:\n",
        "            hidden_states = layer_module(hidden_states)\n",
        "        return hidden_states\n",
        "    \n",
        "class Pooler(nn.Module):\n",
        "    def __init__(self, config):\n",
        "        super().__init__()\n",
        "        self.dense = nn.Linear(config.hidden_size, config.hidden_size)\n",
        "        self.activation = nn.Tanh()\n",
        "    def forward(self, hidden_states):\n",
        "        first_token_tensor = hidden_states[:, 0]\n",
        "        pooled_output = self.dense(first_token_tensor)\n",
        "        pooled_output = self.activation(pooled_output)\n",
        "        return pooled_output\n",
        "\n",
        "class AttentionModel(nn.Module):\n",
        "    def __init__(self, config):\n",
        "        super().__init__()\n",
        "        self.embeddings = Embeddings(config)\n",
        "        self.encoder = Encoder(config)\n",
        "        self.pooler = Pooler(config)\n",
        "    def forward(self, input_ids):\n",
        "        embedding_output = self.embeddings(input_ids)\n",
        "        encoder_outputs = self.encoder(embedding_output)\n",
        "        pooled_output = self.pooler(encoder_outputs)\n",
        "        return pooled_output\n",
        "    \n",
        "class BinaryClassification(nn.Module):\n",
        "    def __init__(self, config):\n",
        "        super().__init__()\n",
        "        self.attentionModel = AttentionModel(config)\n",
        "        self.dropout = nn.Dropout(config.hidden_dropout_prob)\n",
        "        self.classifier = nn.Linear(config.hidden_size, 1)\n",
        "    def forward(self, input_ids):\n",
        "        pooled_output = self.attentionModel(input_ids)\n",
        "        pooled_output = self.dropout(pooled_output)\n",
        "        logits = self.classifier(pooled_output)\n",
        "        return logits\n",
        "\n"
      ]
    },
    {
      "cell_type": "code",
      "execution_count": null,
      "metadata": {
        "colab": {
          "background_save": true
        },
        "id": "bwTwDCVOhEzP"
      },
      "outputs": [],
      "source": [
        "#make a class same as bertConfig\n",
        "\n",
        "class Config():\n",
        "    def __init__(self, attention_probs_dropout_prob = 0.1,\n",
        "                 classifier_dropout = None,\n",
        "                 hidden_act = \"gelu\",\n",
        "                 hidden_dropout_prob = 0.1,\n",
        "                 hidden_size = 768,\n",
        "                 initializer_range = 0.02,\n",
        "                 intermediate_size = 3072,\n",
        "                 layer_norm_eps = 1e-12,\n",
        "                 max_position_embeddings = 512,\n",
        "                 model_type = \"bert\",\n",
        "                 num_attention_heads = 12,\n",
        "                 num_hidden_layers = 12,\n",
        "                 pad_token_id = 0,\n",
        "                 position_embedding_type = \"absolute\",\n",
        "                 transformers_version = \"4.27.3\",\n",
        "                 type_vocab_size = 2,\n",
        "                 use_cache = True,\n",
        "                 vocab_size = 30522):\n",
        "        self.attention_probs_dropout_prob = attention_probs_dropout_prob\n",
        "        self.classifier_dropout = classifier_dropout\n",
        "        self.hidden_act = hidden_act\n",
        "        self.hidden_dropout_prob = hidden_dropout_prob\n",
        "        self.hidden_size = hidden_size\n",
        "        self.initializer_range = initializer_range\n",
        "        self.intermediate_size = intermediate_size\n",
        "        self.layer_norm_eps = layer_norm_eps\n",
        "        self.max_position_embeddings = max_position_embeddings\n",
        "        self.model_type = model_type\n",
        "        self.num_attention_heads = num_attention_heads\n",
        "        self.num_hidden_layers = num_hidden_layers\n",
        "        self.pad_token_id = pad_token_id\n",
        "        self.position_embedding_type = position_embedding_type\n",
        "        self.transformers_version = transformers_version\n",
        "        self.type_vocab_size = type_vocab_size\n",
        "        self.use_cache = use_cache\n",
        "        self.vocab_size = vocab_size\n",
        "\n",
        "config = Config()\n",
        "config.num_hidden_layers = 5"
      ]
    },
    {
      "cell_type": "code",
      "execution_count": null,
      "metadata": {
        "id": "zWNue3FlgqCT"
      },
      "outputs": [],
      "source": [
        "from tqdm import tqdm\n",
        "def train_epoch(model, data_loader, loss_fn, optimizer, device, scheduler, n_examples):\n",
        "    model.train()\n",
        "    losses = []\n",
        "    correct_predictions = 0\n",
        "    count = 0\n",
        "    for d in tqdm(data_loader):\n",
        "        count += 1\n",
        "        input_ids = d[\"input_ids\"].to(device)\n",
        "        labels = d[\"labels\"].to(device)\n",
        "        #print(labels)\n",
        "        outputs = torch.sigmoid(model(input_ids=input_ids))\n",
        "        # Calculate the predictions by thresholding at 0.5\n",
        "        preds = (outputs > 0.5).float()\n",
        "\n",
        "        # Use binary cross-entropy loss for binary classification\n",
        "        loss = loss_fn(outputs, labels.unsqueeze(1).float())\n",
        "        correct_predictions += torch.sum(preds == labels.unsqueeze(1))\n",
        "        optimizer.zero_grad()\n",
        "        losses.append(loss.item())\n",
        "        loss.backward()\n",
        "        nn.utils.clip_grad_norm_(model.parameters(), max_norm=1.0)\n",
        "        optimizer.step()\n",
        "        scheduler.step()\n",
        "    return correct_predictions.cpu().double() / n_examples, np.mean(losses)\n",
        "\n",
        "from transformers import AdamW\n",
        "from transformers import get_scheduler\n",
        "\n",
        "\n",
        "def evaluate(model, data_loader, loss_fn, device, n_examples):\n",
        "    model.eval()\n",
        "    losses = []\n",
        "    correct_predictions = 0\n",
        "    with torch.no_grad():\n",
        "        for d in data_loader:\n",
        "            input_ids = d[\"input_ids\"].to(device)\n",
        "            labels = d[\"labels\"].to(device)\n",
        "            outputs = torch.sigmoid(model(input_ids=input_ids))\n",
        "            preds = (outputs > 0.5).float()\n",
        "            loss = loss_fn(outputs, labels.unsqueeze(1).float())\n",
        "            correct_predictions += torch.sum(preds == labels.unsqueeze(1))\n",
        "            losses.append(loss.item())\n",
        "    \n",
        "    return correct_predictions.cpu().double() / n_examples, np.mean(losses)\n",
        "\n",
        "def train(model, train_data_loader, val_data_loader, loss_fn, optimizer, device, scheduler, n_examples_train, n_examples_val, n_epochs):\n",
        "    train_accuracies = []\n",
        "    train_losses = []\n",
        "    val_accuracies = []\n",
        "    val_losses = []\n",
        "\n",
        "    for epoch in range(n_epochs):\n",
        "        print(f\"Epoch {epoch + 1}/{n_epochs}\")\n",
        "        print(\"-\" * 10)\n",
        "\n",
        "        train_epoch(model, train_data_loader, loss_fn, optimizer, device, scheduler, n_examples_train)\n",
        "        train_accuracy, train_loss = evaluate(model, train_data_loader, loss_fn, device, n_examples_train)\n",
        "        val_accuracy, val_loss = evaluate(model, val_data_loader, loss_fn, device, n_examples_val)\n",
        "\n",
        "        train_accuracies.append(train_accuracy)\n",
        "        train_losses.append(train_loss)\n",
        "        val_accuracies.append(val_accuracy)\n",
        "        val_losses.append(val_loss)\n",
        "\n",
        "        print(f\"Train Accuracy: {train_accuracy:.4f}, Train Loss: {train_loss:.4f}\")\n",
        "        print(f\"Val Accuracy: {val_accuracy:.4f}, Val Loss: {val_loss:.4f}\")\n",
        "\n",
        "    return {\n",
        "        \"train_accuracies\": train_accuracies,\n",
        "        \"train_losses\": train_losses,\n",
        "        \"val_accuracies\": val_accuracies,\n",
        "        \"val_losses\": val_losses\n",
        "    }\n",
        "\n",
        "train_dataloader = DataLoader(train_dataset, 120)\n",
        "validation_dataloader = DataLoader(validation_dataset, 10)\n",
        "\n",
        "print(len(train_dataloader))\n",
        "print(len(validation_dataloader))\n",
        "\n",
        "device = torch.device('cuda') if torch.cuda.is_available() else torch.device('cpu')\n",
        "model = BinaryClassification(config).to(device)\n",
        "optimizer = AdamW(model.parameters(), lr=5e-5)\n",
        "epochs = 20\n",
        "training_length = 8000\n",
        "num_training_steps = epochs * len(train_dataloader)\n",
        "loss_fn = nn.BCELoss().to(device)\n",
        "lr_scheduler = get_scheduler(\n",
        "    \"linear\",\n",
        "    optimizer=optimizer,\n",
        "    num_warmup_steps=0,\n",
        "    num_training_steps=num_training_steps\n",
        ")\n",
        "\n",
        "history = train(model, train_dataloader, validation_dataloader, loss_fn, optimizer, device, lr_scheduler, training_length, validation_length, epochs)\n",
        "\n",
        "import matplotlib.pyplot as plt\n",
        "\n"
      ]
    },
    {
      "cell_type": "code",
      "execution_count": null,
      "metadata": {
        "colab": {
          "background_save": true
        },
        "id": "Kf3KhPZQhtE7"
      },
      "outputs": [],
      "source": [
        "def plot_metrics(history):\n",
        "    train_accuracies = history['train_accuracies']\n",
        "    train_losses = history['train_losses']\n",
        "    val_accuracies = history['val_accuracies']\n",
        "    val_losses = history['val_losses']\n",
        "    epochs = range(1, len(train_accuracies) + 1)\n",
        "\n",
        "\n",
        "    plt.figure(figsize=(12, 5))\n",
        "\n",
        "    plt.suptitle('Denser Attention Bert 512', fontsize=16, y=1.05)\n",
        "\n",
        "    # Plot accuracies\n",
        "    plt.subplot(1, 2, 1)\n",
        "    plt.plot(epochs, train_accuracies, label='Train', marker='o')\n",
        "    plt.plot(epochs, val_accuracies, label='Validation', marker='o')\n",
        "    plt.xlabel('Epochs')\n",
        "    plt.ylabel('Accuracy')\n",
        "    plt.legend()\n",
        "    plt.title('Training and Validation Accuracy')\n",
        "\n",
        "    # Plot losses\n",
        "    plt.subplot(1, 2, 2)\n",
        "    plt.plot(epochs, train_losses, label='Train', marker='o')\n",
        "    plt.plot(epochs, val_losses, label='Validation', marker='o')\n",
        "    plt.xlabel('Epochs')\n",
        "    plt.ylabel('Loss')\n",
        "    plt.legend()\n",
        "    plt.title('Training and Validation Loss')\n",
        "\n",
        "    plt.show()\n",
        "\n",
        "plot_metrics(history)"
      ]
    },
    {
      "cell_type": "code",
      "execution_count": null,
      "metadata": {
        "id": "2I5NKQ4GpLOQ"
      },
      "outputs": [],
      "source": []
    }
  ],
  "metadata": {
    "accelerator": "GPU",
    "colab": {
      "machine_shape": "hm",
      "provenance": [],
      "authorship_tag": "ABX9TyM1YaQPPEMBcafFDfq+LKjA",
      "include_colab_link": true
    },
    "gpuClass": "standard",
    "kernelspec": {
      "display_name": "Python 3",
      "name": "python3"
    },
    "language_info": {
      "name": "python"
    }
  },
  "nbformat": 4,
  "nbformat_minor": 0
}