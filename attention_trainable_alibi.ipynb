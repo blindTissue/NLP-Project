{
  "nbformat": 4,
  "nbformat_minor": 0,
  "metadata": {
    "colab": {
      "provenance": [],
      "machine_shape": "hm",
      "gpuType": "A100",
      "authorship_tag": "ABX9TyNQKeNFB5Gq920oFMbgvFcT",
      "include_colab_link": true
    },
    "kernelspec": {
      "name": "python3",
      "display_name": "Python 3"
    },
    "language_info": {
      "name": "python"
    },
    "gpuClass": "standard",
    "accelerator": "GPU",
    "widgets": {
      "application/vnd.jupyter.widget-state+json": {
        "45bb95bebe3941e0aa009291ca5dce98": {
          "model_module": "@jupyter-widgets/controls",
          "model_name": "HBoxModel",
          "model_module_version": "1.5.0",
          "state": {
            "_dom_classes": [],
            "_model_module": "@jupyter-widgets/controls",
            "_model_module_version": "1.5.0",
            "_model_name": "HBoxModel",
            "_view_count": null,
            "_view_module": "@jupyter-widgets/controls",
            "_view_module_version": "1.5.0",
            "_view_name": "HBoxView",
            "box_style": "",
            "children": [
              "IPY_MODEL_b40257f5aa274071af2f1847078a5feb",
              "IPY_MODEL_a6037cbe117a4819970bede2e9ca8b74",
              "IPY_MODEL_efacc6254c2647418d02c83ed4b70aa8"
            ],
            "layout": "IPY_MODEL_f828a40ce4f04d0ba8f5a11d63a1333d"
          }
        },
        "b40257f5aa274071af2f1847078a5feb": {
          "model_module": "@jupyter-widgets/controls",
          "model_name": "HTMLModel",
          "model_module_version": "1.5.0",
          "state": {
            "_dom_classes": [],
            "_model_module": "@jupyter-widgets/controls",
            "_model_module_version": "1.5.0",
            "_model_name": "HTMLModel",
            "_view_count": null,
            "_view_module": "@jupyter-widgets/controls",
            "_view_module_version": "1.5.0",
            "_view_name": "HTMLView",
            "description": "",
            "description_tooltip": null,
            "layout": "IPY_MODEL_0725758879134975a6caff8373da9a25",
            "placeholder": "​",
            "style": "IPY_MODEL_455841d5e97e476098514dcc93fc93f5",
            "value": "100%"
          }
        },
        "a6037cbe117a4819970bede2e9ca8b74": {
          "model_module": "@jupyter-widgets/controls",
          "model_name": "FloatProgressModel",
          "model_module_version": "1.5.0",
          "state": {
            "_dom_classes": [],
            "_model_module": "@jupyter-widgets/controls",
            "_model_module_version": "1.5.0",
            "_model_name": "FloatProgressModel",
            "_view_count": null,
            "_view_module": "@jupyter-widgets/controls",
            "_view_module_version": "1.5.0",
            "_view_name": "ProgressView",
            "bar_style": "success",
            "description": "",
            "description_tooltip": null,
            "layout": "IPY_MODEL_0760f6b13dc54f168f378713436a3761",
            "max": 2,
            "min": 0,
            "orientation": "horizontal",
            "style": "IPY_MODEL_7febce89e8f449ce9cb26b46c62c2045",
            "value": 2
          }
        },
        "efacc6254c2647418d02c83ed4b70aa8": {
          "model_module": "@jupyter-widgets/controls",
          "model_name": "HTMLModel",
          "model_module_version": "1.5.0",
          "state": {
            "_dom_classes": [],
            "_model_module": "@jupyter-widgets/controls",
            "_model_module_version": "1.5.0",
            "_model_name": "HTMLModel",
            "_view_count": null,
            "_view_module": "@jupyter-widgets/controls",
            "_view_module_version": "1.5.0",
            "_view_name": "HTMLView",
            "description": "",
            "description_tooltip": null,
            "layout": "IPY_MODEL_93b421dc37f2424796648f2828322c40",
            "placeholder": "​",
            "style": "IPY_MODEL_4895922a39d949bea6b6cc7818c303d5",
            "value": " 2/2 [00:00&lt;00:00, 106.80it/s]"
          }
        },
        "f828a40ce4f04d0ba8f5a11d63a1333d": {
          "model_module": "@jupyter-widgets/base",
          "model_name": "LayoutModel",
          "model_module_version": "1.2.0",
          "state": {
            "_model_module": "@jupyter-widgets/base",
            "_model_module_version": "1.2.0",
            "_model_name": "LayoutModel",
            "_view_count": null,
            "_view_module": "@jupyter-widgets/base",
            "_view_module_version": "1.2.0",
            "_view_name": "LayoutView",
            "align_content": null,
            "align_items": null,
            "align_self": null,
            "border": null,
            "bottom": null,
            "display": null,
            "flex": null,
            "flex_flow": null,
            "grid_area": null,
            "grid_auto_columns": null,
            "grid_auto_flow": null,
            "grid_auto_rows": null,
            "grid_column": null,
            "grid_gap": null,
            "grid_row": null,
            "grid_template_areas": null,
            "grid_template_columns": null,
            "grid_template_rows": null,
            "height": null,
            "justify_content": null,
            "justify_items": null,
            "left": null,
            "margin": null,
            "max_height": null,
            "max_width": null,
            "min_height": null,
            "min_width": null,
            "object_fit": null,
            "object_position": null,
            "order": null,
            "overflow": null,
            "overflow_x": null,
            "overflow_y": null,
            "padding": null,
            "right": null,
            "top": null,
            "visibility": null,
            "width": null
          }
        },
        "0725758879134975a6caff8373da9a25": {
          "model_module": "@jupyter-widgets/base",
          "model_name": "LayoutModel",
          "model_module_version": "1.2.0",
          "state": {
            "_model_module": "@jupyter-widgets/base",
            "_model_module_version": "1.2.0",
            "_model_name": "LayoutModel",
            "_view_count": null,
            "_view_module": "@jupyter-widgets/base",
            "_view_module_version": "1.2.0",
            "_view_name": "LayoutView",
            "align_content": null,
            "align_items": null,
            "align_self": null,
            "border": null,
            "bottom": null,
            "display": null,
            "flex": null,
            "flex_flow": null,
            "grid_area": null,
            "grid_auto_columns": null,
            "grid_auto_flow": null,
            "grid_auto_rows": null,
            "grid_column": null,
            "grid_gap": null,
            "grid_row": null,
            "grid_template_areas": null,
            "grid_template_columns": null,
            "grid_template_rows": null,
            "height": null,
            "justify_content": null,
            "justify_items": null,
            "left": null,
            "margin": null,
            "max_height": null,
            "max_width": null,
            "min_height": null,
            "min_width": null,
            "object_fit": null,
            "object_position": null,
            "order": null,
            "overflow": null,
            "overflow_x": null,
            "overflow_y": null,
            "padding": null,
            "right": null,
            "top": null,
            "visibility": null,
            "width": null
          }
        },
        "455841d5e97e476098514dcc93fc93f5": {
          "model_module": "@jupyter-widgets/controls",
          "model_name": "DescriptionStyleModel",
          "model_module_version": "1.5.0",
          "state": {
            "_model_module": "@jupyter-widgets/controls",
            "_model_module_version": "1.5.0",
            "_model_name": "DescriptionStyleModel",
            "_view_count": null,
            "_view_module": "@jupyter-widgets/base",
            "_view_module_version": "1.2.0",
            "_view_name": "StyleView",
            "description_width": ""
          }
        },
        "0760f6b13dc54f168f378713436a3761": {
          "model_module": "@jupyter-widgets/base",
          "model_name": "LayoutModel",
          "model_module_version": "1.2.0",
          "state": {
            "_model_module": "@jupyter-widgets/base",
            "_model_module_version": "1.2.0",
            "_model_name": "LayoutModel",
            "_view_count": null,
            "_view_module": "@jupyter-widgets/base",
            "_view_module_version": "1.2.0",
            "_view_name": "LayoutView",
            "align_content": null,
            "align_items": null,
            "align_self": null,
            "border": null,
            "bottom": null,
            "display": null,
            "flex": null,
            "flex_flow": null,
            "grid_area": null,
            "grid_auto_columns": null,
            "grid_auto_flow": null,
            "grid_auto_rows": null,
            "grid_column": null,
            "grid_gap": null,
            "grid_row": null,
            "grid_template_areas": null,
            "grid_template_columns": null,
            "grid_template_rows": null,
            "height": null,
            "justify_content": null,
            "justify_items": null,
            "left": null,
            "margin": null,
            "max_height": null,
            "max_width": null,
            "min_height": null,
            "min_width": null,
            "object_fit": null,
            "object_position": null,
            "order": null,
            "overflow": null,
            "overflow_x": null,
            "overflow_y": null,
            "padding": null,
            "right": null,
            "top": null,
            "visibility": null,
            "width": null
          }
        },
        "7febce89e8f449ce9cb26b46c62c2045": {
          "model_module": "@jupyter-widgets/controls",
          "model_name": "ProgressStyleModel",
          "model_module_version": "1.5.0",
          "state": {
            "_model_module": "@jupyter-widgets/controls",
            "_model_module_version": "1.5.0",
            "_model_name": "ProgressStyleModel",
            "_view_count": null,
            "_view_module": "@jupyter-widgets/base",
            "_view_module_version": "1.2.0",
            "_view_name": "StyleView",
            "bar_color": null,
            "description_width": ""
          }
        },
        "93b421dc37f2424796648f2828322c40": {
          "model_module": "@jupyter-widgets/base",
          "model_name": "LayoutModel",
          "model_module_version": "1.2.0",
          "state": {
            "_model_module": "@jupyter-widgets/base",
            "_model_module_version": "1.2.0",
            "_model_name": "LayoutModel",
            "_view_count": null,
            "_view_module": "@jupyter-widgets/base",
            "_view_module_version": "1.2.0",
            "_view_name": "LayoutView",
            "align_content": null,
            "align_items": null,
            "align_self": null,
            "border": null,
            "bottom": null,
            "display": null,
            "flex": null,
            "flex_flow": null,
            "grid_area": null,
            "grid_auto_columns": null,
            "grid_auto_flow": null,
            "grid_auto_rows": null,
            "grid_column": null,
            "grid_gap": null,
            "grid_row": null,
            "grid_template_areas": null,
            "grid_template_columns": null,
            "grid_template_rows": null,
            "height": null,
            "justify_content": null,
            "justify_items": null,
            "left": null,
            "margin": null,
            "max_height": null,
            "max_width": null,
            "min_height": null,
            "min_width": null,
            "object_fit": null,
            "object_position": null,
            "order": null,
            "overflow": null,
            "overflow_x": null,
            "overflow_y": null,
            "padding": null,
            "right": null,
            "top": null,
            "visibility": null,
            "width": null
          }
        },
        "4895922a39d949bea6b6cc7818c303d5": {
          "model_module": "@jupyter-widgets/controls",
          "model_name": "DescriptionStyleModel",
          "model_module_version": "1.5.0",
          "state": {
            "_model_module": "@jupyter-widgets/controls",
            "_model_module_version": "1.5.0",
            "_model_name": "DescriptionStyleModel",
            "_view_count": null,
            "_view_module": "@jupyter-widgets/base",
            "_view_module_version": "1.2.0",
            "_view_name": "StyleView",
            "description_width": ""
          }
        }
      }
    }
  },
  "cells": [
    {
      "cell_type": "markdown",
      "metadata": {
        "id": "view-in-github",
        "colab_type": "text"
      },
      "source": [
        "<a href=\"https://colab.research.google.com/github/blindTissue/NLP-Project/blob/main/attention_trainable_alibi.ipynb\" target=\"_parent\"><img src=\"https://colab.research.google.com/assets/colab-badge.svg\" alt=\"Open In Colab\"/></a>"
      ]
    },
    {
      "cell_type": "code",
      "execution_count": null,
      "metadata": {
        "colab": {
          "base_uri": "https://localhost:8080/"
        },
        "id": "PdlZiZed7BGq",
        "outputId": "7658ecd5-7ce7-49df-a24f-193e88c24e52"
      },
      "outputs": [
        {
          "output_type": "stream",
          "name": "stdout",
          "text": [
            "Looking in indexes: https://pypi.org/simple, https://us-python.pkg.dev/colab-wheels/public/simple/\n",
            "Requirement already satisfied: transformers in /usr/local/lib/python3.10/dist-packages (4.28.1)\n",
            "Requirement already satisfied: numpy>=1.17 in /usr/local/lib/python3.10/dist-packages (from transformers) (1.22.4)\n",
            "Requirement already satisfied: requests in /usr/local/lib/python3.10/dist-packages (from transformers) (2.27.1)\n",
            "Requirement already satisfied: tqdm>=4.27 in /usr/local/lib/python3.10/dist-packages (from transformers) (4.65.0)\n",
            "Requirement already satisfied: pyyaml>=5.1 in /usr/local/lib/python3.10/dist-packages (from transformers) (6.0)\n",
            "Requirement already satisfied: packaging>=20.0 in /usr/local/lib/python3.10/dist-packages (from transformers) (23.1)\n",
            "Requirement already satisfied: tokenizers!=0.11.3,<0.14,>=0.11.1 in /usr/local/lib/python3.10/dist-packages (from transformers) (0.13.3)\n",
            "Requirement already satisfied: huggingface-hub<1.0,>=0.11.0 in /usr/local/lib/python3.10/dist-packages (from transformers) (0.14.1)\n",
            "Requirement already satisfied: filelock in /usr/local/lib/python3.10/dist-packages (from transformers) (3.12.0)\n",
            "Requirement already satisfied: regex!=2019.12.17 in /usr/local/lib/python3.10/dist-packages (from transformers) (2022.10.31)\n",
            "Requirement already satisfied: typing-extensions>=3.7.4.3 in /usr/local/lib/python3.10/dist-packages (from huggingface-hub<1.0,>=0.11.0->transformers) (4.5.0)\n",
            "Requirement already satisfied: fsspec in /usr/local/lib/python3.10/dist-packages (from huggingface-hub<1.0,>=0.11.0->transformers) (2023.4.0)\n",
            "Requirement already satisfied: idna<4,>=2.5 in /usr/local/lib/python3.10/dist-packages (from requests->transformers) (3.4)\n",
            "Requirement already satisfied: certifi>=2017.4.17 in /usr/local/lib/python3.10/dist-packages (from requests->transformers) (2022.12.7)\n",
            "Requirement already satisfied: urllib3<1.27,>=1.21.1 in /usr/local/lib/python3.10/dist-packages (from requests->transformers) (1.26.15)\n",
            "Requirement already satisfied: charset-normalizer~=2.0.0 in /usr/local/lib/python3.10/dist-packages (from requests->transformers) (2.0.12)\n",
            "Looking in indexes: https://pypi.org/simple, https://us-python.pkg.dev/colab-wheels/public/simple/\n",
            "Requirement already satisfied: datasets in /usr/local/lib/python3.10/dist-packages (2.12.0)\n",
            "Requirement already satisfied: requests>=2.19.0 in /usr/local/lib/python3.10/dist-packages (from datasets) (2.27.1)\n",
            "Requirement already satisfied: aiohttp in /usr/local/lib/python3.10/dist-packages (from datasets) (3.8.4)\n",
            "Requirement already satisfied: dill<0.3.7,>=0.3.0 in /usr/local/lib/python3.10/dist-packages (from datasets) (0.3.6)\n",
            "Requirement already satisfied: responses<0.19 in /usr/local/lib/python3.10/dist-packages (from datasets) (0.18.0)\n",
            "Requirement already satisfied: pyyaml>=5.1 in /usr/local/lib/python3.10/dist-packages (from datasets) (6.0)\n",
            "Requirement already satisfied: fsspec[http]>=2021.11.1 in /usr/local/lib/python3.10/dist-packages (from datasets) (2023.4.0)\n",
            "Requirement already satisfied: numpy>=1.17 in /usr/local/lib/python3.10/dist-packages (from datasets) (1.22.4)\n",
            "Requirement already satisfied: xxhash in /usr/local/lib/python3.10/dist-packages (from datasets) (3.2.0)\n",
            "Requirement already satisfied: huggingface-hub<1.0.0,>=0.11.0 in /usr/local/lib/python3.10/dist-packages (from datasets) (0.14.1)\n",
            "Requirement already satisfied: pyarrow>=8.0.0 in /usr/local/lib/python3.10/dist-packages (from datasets) (9.0.0)\n",
            "Requirement already satisfied: packaging in /usr/local/lib/python3.10/dist-packages (from datasets) (23.1)\n",
            "Requirement already satisfied: multiprocess in /usr/local/lib/python3.10/dist-packages (from datasets) (0.70.14)\n",
            "Requirement already satisfied: tqdm>=4.62.1 in /usr/local/lib/python3.10/dist-packages (from datasets) (4.65.0)\n",
            "Requirement already satisfied: pandas in /usr/local/lib/python3.10/dist-packages (from datasets) (1.5.3)\n",
            "Requirement already satisfied: yarl<2.0,>=1.0 in /usr/local/lib/python3.10/dist-packages (from aiohttp->datasets) (1.9.2)\n",
            "Requirement already satisfied: charset-normalizer<4.0,>=2.0 in /usr/local/lib/python3.10/dist-packages (from aiohttp->datasets) (2.0.12)\n",
            "Requirement already satisfied: multidict<7.0,>=4.5 in /usr/local/lib/python3.10/dist-packages (from aiohttp->datasets) (6.0.4)\n",
            "Requirement already satisfied: attrs>=17.3.0 in /usr/local/lib/python3.10/dist-packages (from aiohttp->datasets) (23.1.0)\n",
            "Requirement already satisfied: async-timeout<5.0,>=4.0.0a3 in /usr/local/lib/python3.10/dist-packages (from aiohttp->datasets) (4.0.2)\n",
            "Requirement already satisfied: aiosignal>=1.1.2 in /usr/local/lib/python3.10/dist-packages (from aiohttp->datasets) (1.3.1)\n",
            "Requirement already satisfied: frozenlist>=1.1.1 in /usr/local/lib/python3.10/dist-packages (from aiohttp->datasets) (1.3.3)\n",
            "Requirement already satisfied: filelock in /usr/local/lib/python3.10/dist-packages (from huggingface-hub<1.0.0,>=0.11.0->datasets) (3.12.0)\n",
            "Requirement already satisfied: typing-extensions>=3.7.4.3 in /usr/local/lib/python3.10/dist-packages (from huggingface-hub<1.0.0,>=0.11.0->datasets) (4.5.0)\n",
            "Requirement already satisfied: certifi>=2017.4.17 in /usr/local/lib/python3.10/dist-packages (from requests>=2.19.0->datasets) (2022.12.7)\n",
            "Requirement already satisfied: idna<4,>=2.5 in /usr/local/lib/python3.10/dist-packages (from requests>=2.19.0->datasets) (3.4)\n",
            "Requirement already satisfied: urllib3<1.27,>=1.21.1 in /usr/local/lib/python3.10/dist-packages (from requests>=2.19.0->datasets) (1.26.15)\n",
            "Requirement already satisfied: pytz>=2020.1 in /usr/local/lib/python3.10/dist-packages (from pandas->datasets) (2022.7.1)\n",
            "Requirement already satisfied: python-dateutil>=2.8.1 in /usr/local/lib/python3.10/dist-packages (from pandas->datasets) (2.8.2)\n",
            "Requirement already satisfied: six>=1.5 in /usr/local/lib/python3.10/dist-packages (from python-dateutil>=2.8.1->pandas->datasets) (1.16.0)\n",
            "Looking in indexes: https://pypi.org/simple, https://us-python.pkg.dev/colab-wheels/public/simple/\n",
            "Requirement already satisfied: evaluate in /usr/local/lib/python3.10/dist-packages (0.4.0)\n",
            "Requirement already satisfied: xxhash in /usr/local/lib/python3.10/dist-packages (from evaluate) (3.2.0)\n",
            "Requirement already satisfied: multiprocess in /usr/local/lib/python3.10/dist-packages (from evaluate) (0.70.14)\n",
            "Requirement already satisfied: huggingface-hub>=0.7.0 in /usr/local/lib/python3.10/dist-packages (from evaluate) (0.14.1)\n",
            "Requirement already satisfied: dill in /usr/local/lib/python3.10/dist-packages (from evaluate) (0.3.6)\n",
            "Requirement already satisfied: numpy>=1.17 in /usr/local/lib/python3.10/dist-packages (from evaluate) (1.22.4)\n",
            "Requirement already satisfied: packaging in /usr/local/lib/python3.10/dist-packages (from evaluate) (23.1)\n",
            "Requirement already satisfied: pandas in /usr/local/lib/python3.10/dist-packages (from evaluate) (1.5.3)\n",
            "Requirement already satisfied: datasets>=2.0.0 in /usr/local/lib/python3.10/dist-packages (from evaluate) (2.12.0)\n",
            "Requirement already satisfied: fsspec[http]>=2021.05.0 in /usr/local/lib/python3.10/dist-packages (from evaluate) (2023.4.0)\n",
            "Requirement already satisfied: requests>=2.19.0 in /usr/local/lib/python3.10/dist-packages (from evaluate) (2.27.1)\n",
            "Requirement already satisfied: tqdm>=4.62.1 in /usr/local/lib/python3.10/dist-packages (from evaluate) (4.65.0)\n",
            "Requirement already satisfied: responses<0.19 in /usr/local/lib/python3.10/dist-packages (from evaluate) (0.18.0)\n",
            "Requirement already satisfied: pyarrow>=8.0.0 in /usr/local/lib/python3.10/dist-packages (from datasets>=2.0.0->evaluate) (9.0.0)\n",
            "Requirement already satisfied: aiohttp in /usr/local/lib/python3.10/dist-packages (from datasets>=2.0.0->evaluate) (3.8.4)\n",
            "Requirement already satisfied: pyyaml>=5.1 in /usr/local/lib/python3.10/dist-packages (from datasets>=2.0.0->evaluate) (6.0)\n",
            "Requirement already satisfied: typing-extensions>=3.7.4.3 in /usr/local/lib/python3.10/dist-packages (from huggingface-hub>=0.7.0->evaluate) (4.5.0)\n",
            "Requirement already satisfied: filelock in /usr/local/lib/python3.10/dist-packages (from huggingface-hub>=0.7.0->evaluate) (3.12.0)\n",
            "Requirement already satisfied: urllib3<1.27,>=1.21.1 in /usr/local/lib/python3.10/dist-packages (from requests>=2.19.0->evaluate) (1.26.15)\n",
            "Requirement already satisfied: certifi>=2017.4.17 in /usr/local/lib/python3.10/dist-packages (from requests>=2.19.0->evaluate) (2022.12.7)\n",
            "Requirement already satisfied: idna<4,>=2.5 in /usr/local/lib/python3.10/dist-packages (from requests>=2.19.0->evaluate) (3.4)\n",
            "Requirement already satisfied: charset-normalizer~=2.0.0 in /usr/local/lib/python3.10/dist-packages (from requests>=2.19.0->evaluate) (2.0.12)\n",
            "Requirement already satisfied: pytz>=2020.1 in /usr/local/lib/python3.10/dist-packages (from pandas->evaluate) (2022.7.1)\n",
            "Requirement already satisfied: python-dateutil>=2.8.1 in /usr/local/lib/python3.10/dist-packages (from pandas->evaluate) (2.8.2)\n",
            "Requirement already satisfied: async-timeout<5.0,>=4.0.0a3 in /usr/local/lib/python3.10/dist-packages (from aiohttp->datasets>=2.0.0->evaluate) (4.0.2)\n",
            "Requirement already satisfied: attrs>=17.3.0 in /usr/local/lib/python3.10/dist-packages (from aiohttp->datasets>=2.0.0->evaluate) (23.1.0)\n",
            "Requirement already satisfied: yarl<2.0,>=1.0 in /usr/local/lib/python3.10/dist-packages (from aiohttp->datasets>=2.0.0->evaluate) (1.9.2)\n",
            "Requirement already satisfied: aiosignal>=1.1.2 in /usr/local/lib/python3.10/dist-packages (from aiohttp->datasets>=2.0.0->evaluate) (1.3.1)\n",
            "Requirement already satisfied: frozenlist>=1.1.1 in /usr/local/lib/python3.10/dist-packages (from aiohttp->datasets>=2.0.0->evaluate) (1.3.3)\n",
            "Requirement already satisfied: multidict<7.0,>=4.5 in /usr/local/lib/python3.10/dist-packages (from aiohttp->datasets>=2.0.0->evaluate) (6.0.4)\n",
            "Requirement already satisfied: six>=1.5 in /usr/local/lib/python3.10/dist-packages (from python-dateutil>=2.8.1->pandas->evaluate) (1.16.0)\n"
          ]
        }
      ],
      "source": [
        "!pip install transformers\n",
        "!pip install datasets\n",
        "!pip install evaluate"
      ]
    },
    {
      "cell_type": "code",
      "source": [
        "from datasets import load_dataset\n",
        "import torch\n",
        "from transformers import AutoTokenizer\n",
        "from torch.utils.data import DataLoader\n",
        "import torch\n",
        "import torch.nn as nn\n",
        "import math\n",
        "import numpy as np\n"
      ],
      "metadata": {
        "id": "_xz2288c7EuJ"
      },
      "execution_count": null,
      "outputs": []
    },
    {
      "cell_type": "code",
      "source": [
        "training_length = 8000\n",
        "validation_length = 2000\n",
        "\n",
        "dataset = load_dataset(\"boolq\")\n",
        "\n",
        "class BoolQADataset(torch.utils.data.Dataset):\n",
        "    \"\"\"\n",
        "    Dataset for the dataset of BoolQ questions and answers\n",
        "    \"\"\"\n",
        "\n",
        "    def __init__(self, passages, questions, answers, tokenizer, max_len):\n",
        "        self.passages = passages\n",
        "        self.questions = questions\n",
        "        self.answers = answers\n",
        "        self.tokenizer = tokenizer\n",
        "        self.max_len = max_len\n",
        "\n",
        "    def __len__(self):\n",
        "        return len(self.answers)\n",
        "\n",
        "    def __getitem__(self, index):\n",
        "        \"\"\"\n",
        "        This function is called by the DataLoader to get an instance of the data\n",
        "        :param index:\n",
        "        :return:\n",
        "        \"\"\"\n",
        "\n",
        "        passage = str(self.passages[index])\n",
        "        question = self.questions[index]\n",
        "        answer = self.answers[index]\n",
        "\n",
        "        # this is input encoding for your model. Note, question comes first since we are doing question answering\n",
        "        # and we don't wnt it to be truncated if the passage is too long\n",
        "        input_encoding = question + \" [SEP] \" + passage\n",
        "\n",
        "        # encode_plus will encode the input and return a dictionary of tensors\n",
        "        encoded_review = self.tokenizer.encode_plus(\n",
        "            input_encoding,\n",
        "            add_special_tokens=True,\n",
        "            max_length=self.max_len,\n",
        "            return_token_type_ids=False,\n",
        "            return_attention_mask=True,\n",
        "            return_tensors=\"pt\",\n",
        "            padding=\"max_length\",\n",
        "            truncation=True\n",
        "        )\n",
        "\n",
        "        return {\n",
        "            'input_ids': encoded_review['input_ids'][0],  # we only have one example in the batch\n",
        "            'attention_mask': encoded_review['attention_mask'][0],\n",
        "            # attention mask tells the model where tokens are padding\n",
        "            'labels': torch.tensor(answer, dtype=torch.long)  # labels are the answers (yes/no)\n",
        "        }\n",
        "\n",
        "dataset['train'][0]\n",
        "\n",
        "dataset_train_subset = dataset['train'][:training_length]\n",
        "#dataset_train_subset = dataset['train'][:100]\n",
        "\n",
        "dataset_dev_subset = dataset['validation'][:validation_length]\n",
        "\n",
        "max_len = 128\n",
        "\n",
        "mytokenizer = AutoTokenizer.from_pretrained(\"bert-base-uncased\")\n",
        "\n",
        "train_dataset = BoolQADataset(\n",
        "        passages=list(dataset_train_subset['passage']),\n",
        "        questions=list(dataset_train_subset['question']),\n",
        "        answers=list(dataset_train_subset['answer']),\n",
        "        tokenizer=mytokenizer,\n",
        "        max_len=max_len\n",
        ")\n",
        "\n",
        "validation_dataset = BoolQADataset(\n",
        "        passages=list(dataset_dev_subset['passage']),\n",
        "        questions=list(dataset_dev_subset['question']),\n",
        "        answers=list(dataset_dev_subset['answer']),\n",
        "        tokenizer=mytokenizer,\n",
        "        max_len=max_len\n",
        "    )\n",
        "\n",
        "train_dataloader = DataLoader(train_dataset, 1)\n",
        "validation_dataloader = DataLoader(validation_dataset, 32)\n",
        "\n"
      ],
      "metadata": {
        "colab": {
          "base_uri": "https://localhost:8080/",
          "height": 86,
          "referenced_widgets": [
            "45bb95bebe3941e0aa009291ca5dce98",
            "b40257f5aa274071af2f1847078a5feb",
            "a6037cbe117a4819970bede2e9ca8b74",
            "efacc6254c2647418d02c83ed4b70aa8",
            "f828a40ce4f04d0ba8f5a11d63a1333d",
            "0725758879134975a6caff8373da9a25",
            "455841d5e97e476098514dcc93fc93f5",
            "0760f6b13dc54f168f378713436a3761",
            "7febce89e8f449ce9cb26b46c62c2045",
            "93b421dc37f2424796648f2828322c40",
            "4895922a39d949bea6b6cc7818c303d5"
          ]
        },
        "id": "rskqOVos7GZ6",
        "outputId": "afa3fc0e-3c0c-4ab4-b0e8-201c43393119"
      },
      "execution_count": null,
      "outputs": [
        {
          "output_type": "stream",
          "name": "stderr",
          "text": [
            "WARNING:datasets.builder:Found cached dataset boolq (/root/.cache/huggingface/datasets/boolq/default/0.1.0/bf0dd57da941c50de94ae3ce3cef7fea48c08f337a4b7aac484e9dddc5aa24e5)\n"
          ]
        },
        {
          "output_type": "display_data",
          "data": {
            "text/plain": [
              "  0%|          | 0/2 [00:00<?, ?it/s]"
            ],
            "application/vnd.jupyter.widget-view+json": {
              "version_major": 2,
              "version_minor": 0,
              "model_id": "45bb95bebe3941e0aa009291ca5dce98"
            }
          },
          "metadata": {}
        }
      ]
    },
    {
      "cell_type": "code",
      "source": [
        "class BertEmbeddings(nn.Module):\n",
        "    def __init__(self, config):\n",
        "        super().__init__()\n",
        "        self.word_embeddings = nn.Embedding(config['vocab_size'], config['hidden_size'], padding_idx=config['pad_token_id'])\n",
        "\n",
        "        self.LayerNorm = nn.LayerNorm(config['hidden_size'], eps=config['layer_norm_eps'])\n",
        "        self.dropout = nn.Dropout(config['hidden_dropout_prob'])\n",
        "\n",
        "    def forward(self, input_ids):\n",
        "        input_shape = input_ids.size()\n",
        "        seq_length = input_shape[1]\n",
        "        device = input_ids.device\n",
        "\n",
        "        embeddings = self.word_embeddings(input_ids)\n",
        "\n",
        "        embeddings = embeddings\n",
        "        embeddings = self.LayerNorm(embeddings)\n",
        "        embeddings = self.dropout(embeddings)\n",
        "        return embeddings\n",
        "\n",
        "class BertSelfAttention(nn.Module):\n",
        "      def __init__(self, config):\n",
        "        super().__init__()\n",
        "\n",
        "        assert config[\"hidden_size\"] % config[\"num_of_attention_heads\"] == 0, \"The hidden size is not a multiple of the number of attention heads\"\n",
        "\n",
        "        self.num_attention_heads = config['num_of_attention_heads']\n",
        "        self.attention_head_size = int(config['hidden_size'] / config['num_of_attention_heads'])\n",
        "        self.all_head_size = self.num_attention_heads * self.attention_head_size\n",
        "\n",
        "        self.query = nn.Linear(config['hidden_size'], self.all_head_size)\n",
        "        self.key = nn.Linear(config['hidden_size'], self.all_head_size)\n",
        "        self.value = nn.Linear(config['hidden_size'], self.all_head_size)\n",
        "        self.dense = nn.Linear(config['hidden_size'], config['hidden_size'])\n",
        "        self.max_position_embeddings = config[\"max_position_embeddings\"]\n",
        "        #self.distance_embedding = nn.Embedding(2 * self.max_position_embeddings - 1, self.attention_head_size)\n",
        "\n",
        "        self.trainable_distance = nn.Parameter(self.initial_distance())\n",
        "\n",
        "        #print(\"distance_embedding\")\n",
        "        #print(self.attention_head_size)\n",
        "\n",
        "      def transpose_for_scores(self, x):\n",
        "        new_x_shape = x.size()[:-1] + (self.num_attention_heads, self.attention_head_size)\n",
        "        x = x.view(*new_x_shape)\n",
        "        return x.permute(0, 2, 1, 3)\n",
        "\n",
        "      def initial_distance(self):\n",
        "          new_m = torch.randn(self.num_attention_heads, self.max_position_embeddings, \n",
        "                                                           self.max_position_embeddings)\n",
        "          for i in range(self.num_attention_heads):\n",
        "              bias = 2 ** (-8 / (i + 1))\n",
        "              for j in range(self.max_position_embeddings):\n",
        "                  for k in range(self.max_position_embeddings):\n",
        "                      new_m[i][j][k] = bias * abs(j-k)\n",
        "          return new_m\n",
        "                      \n",
        "              \n",
        "\n",
        "\n",
        "      def forward(self, hidden_states):\n",
        "        mixed_query_layer = self.query(hidden_states)                             \n",
        "        mixed_key_layer = self.key(hidden_states)                                \n",
        "        mixed_value_layer = self.value(hidden_states)                            \n",
        "        \n",
        "        query_layer = self.transpose_for_scores(mixed_query_layer)               \n",
        "        key_layer = self.transpose_for_scores(mixed_key_layer)                    \n",
        "        value_layer = self.transpose_for_scores(mixed_value_layer) \n",
        "\n",
        "        query_length, key_length = query_layer.shape[2], key_layer.shape[2]\n",
        "        #position_ids_l = torch.arange(query_length, dtype=torch.long, device=hidden_states.device).view(-1, 1)\n",
        "        #position_ids_r = torch.arange(key_length, dtype=torch.long, device=hidden_states.device).view(1, -1)\n",
        "        #distance = position_ids_l - position_ids_r\n",
        "        #positional_embedding = self.distance_embedding(distance + self.max_position_embeddings - 1)\n",
        "        #print(positional_embedding.shape) \n",
        "        #print(\"query layer shape\")\n",
        "        #print(query_layer.shape) \n",
        "        #relative_position_scores = torch.einsum(\"bhld,lrd->bhlr\", query_layer, positional_embedding)\n",
        "\n",
        "\n",
        "\n",
        "        \n",
        "        attention_scores = torch.matmul(query_layer, key_layer.transpose(-1, -2)) \n",
        "        attention_scores = attention_scores / math.sqrt(self.attention_head_size)\n",
        "        \n",
        "        \n",
        "        #attention_scores = attention_scores + relative_position_scores\n",
        "        attention_scores = attention_scores + self.trainable_distance\n",
        "        #print(attention_scores.shape) \n",
        "        attention_probs = nn.Softmax(dim=-1)(attention_scores)                    \n",
        "        context_layer = torch.matmul(attention_probs, value_layer)\n",
        "        #build_alibi_tensor(config['num_of_attention_heads'], )                \n",
        "\n",
        "        context_layer = context_layer.permute(0, 2, 1, 3).contiguous()            \n",
        "        new_context_layer_shape = context_layer.size()[:-2] + (self.all_head_size,) \n",
        "        context_layer = context_layer.view(*new_context_layer_shape)             \n",
        "        \n",
        "        output =  self.dense(context_layer)\n",
        "        \n",
        "        return output\n",
        "\n",
        "\n",
        "\n",
        "\n",
        "class BertSelfOutput(nn.Module):\n",
        "    def __init__(self, config):\n",
        "        super().__init__()\n",
        "        self.dense = nn.Linear(config['hidden_size'], config['hidden_size'])\n",
        "        self.LayerNorm = nn.LayerNorm(config['hidden_size'], eps=config['layer_norm_eps'])\n",
        "        self.dropout = nn.Dropout(config['hidden_dropout_prob'])\n",
        "\n",
        "    def forward(self, hidden_states, input_tensor):\n",
        "        hidden_states = self.dense(hidden_states)\n",
        "        hidden_states = self.dropout(hidden_states)\n",
        "        hidden_states = self.LayerNorm(hidden_states + input_tensor)\n",
        "        return hidden_states\n",
        "    \n",
        "class BertAttention(nn.Module):\n",
        "    def __init__(self, config):\n",
        "        super().__init__()\n",
        "        self.self = BertSelfAttention(config)\n",
        "        self.output = BertSelfOutput(config)\n",
        "        \n",
        "\n",
        "    def forward(self, input_tensor):\n",
        "        self_output = self.self(input_tensor)\n",
        "        attention_output = self.output(self_output, input_tensor)\n",
        "        return attention_output\n",
        "\n",
        "class BertIntermediate(nn.Module):\n",
        "    def __init__(self, config):\n",
        "        super().__init__()\n",
        "        self.dense = nn.Linear(config['hidden_size'], config['intermediate_size'])\n",
        "        self.intermediate_act_fn = nn.GELU()\n",
        "\n",
        "    def forward(self, hidden_states):\n",
        "        hidden_states = self.dense(hidden_states)\n",
        "        hidden_states = self.intermediate_act_fn(hidden_states)\n",
        "        return hidden_states\n",
        "    \n",
        "class BertOutput(nn.Module):\n",
        "    def __init__(self, config):\n",
        "        super().__init__()\n",
        "        self.dense = nn.Linear(config['intermediate_size'], config['hidden_size'])\n",
        "        self.LayerNorm = nn.LayerNorm(config['hidden_size'], eps=config['layer_norm_eps'])\n",
        "        self.dropout = nn.Dropout(config['hidden_dropout_prob'])\n",
        "    def forward(self, hidden_states, input_tensor):\n",
        "        hidden_states = self.dense(hidden_states)\n",
        "        hidden_states = self.dropout(hidden_states)\n",
        "        hidden_states = self.LayerNorm(hidden_states + input_tensor)\n",
        "        return hidden_states\n",
        "    \n",
        "class BertLayer(nn.Module):\n",
        "    def __init__(self, config):\n",
        "        super().__init__()\n",
        "        self.attention = BertAttention(config)\n",
        "        self.intermediate = BertIntermediate(config)\n",
        "        self.output = BertOutput(config)\n",
        "        \n",
        "    def forward(self, hidden_states):\n",
        "        #print(hidden_states)\n",
        "        attention_output = self.attention(hidden_states)\n",
        "        intermediate_output = self.intermediate(attention_output)\n",
        "        layer_output = self.output(intermediate_output, attention_output)\n",
        "        return layer_output\n",
        "\n",
        "class BertEncoder(nn.Module):\n",
        "    def __init__(self, config):\n",
        "        super().__init__()\n",
        "        self.layer = nn.ModuleList([BertLayer(config) for _ in range(config['num_hidden_layers'])])\n",
        "        \n",
        "    def forward(self, hidden_states):\n",
        "        for layer_module in self.layer:\n",
        "            hidden_states = layer_module(hidden_states)\n",
        "        return hidden_states\n",
        "    \n",
        "class BertPooler(nn.Module):\n",
        "    def __init__(self, config):\n",
        "        super().__init__()\n",
        "        self.dense = nn.Linear(config['hidden_size'], config['hidden_size'])\n",
        "        self.activation = nn.Tanh()\n",
        "\n",
        "    def forward(self, hidden_states):\n",
        "        # We \"pool\" the model by simply taking the hidden state corresponding\n",
        "        # to the first token.\n",
        "        first_token_tensor = hidden_states[:, 0]\n",
        "        #print(first_token_tensor.shape)\n",
        "        pooled_output = self.dense(first_token_tensor)\n",
        "        pooled_output = self.activation(pooled_output)\n",
        "        return pooled_output\n",
        "    \n",
        "\n",
        "\n",
        "class BertModel(nn.Module):\n",
        "    def __init__ (self, config):\n",
        "        super().__init__()\n",
        "        self.embeddings = BertEmbeddings(config)\n",
        "        self.encoder = BertEncoder(config)\n",
        "        self.pooler = BertPooler(config)\n",
        "    def forward(self, input_ids):\n",
        "        embedding_output = self.embeddings(input_ids)\n",
        "        encoded_layers = self.encoder(embedding_output)\n",
        "        sequence_output = encoded_layers\n",
        "        pooled_output = self.pooler(sequence_output)\n",
        "        return encoded_layers, pooled_output\n",
        "    \n",
        "class BertForBinaryClassification(nn.Module):\n",
        "    def __init__(self, config):\n",
        "        super().__init__()\n",
        "        self.bert = BertModel(config)\n",
        "        self.dropout = nn.Dropout(config['hidden_dropout_prob'])\n",
        "        self.classifier = nn.Linear(config['hidden_size'], 1)\n",
        "    def forward(self, input_ids):\n",
        "        _, pooled_output = self.bert(input_ids)\n",
        "        pooled_output = self.dropout(pooled_output)\n",
        "        logits = self.classifier(pooled_output)\n",
        "        return logits\n",
        "    \n",
        "\n",
        "\n",
        "\n",
        "hidden_size = 768\n",
        "max_input_length = 128\n",
        "#final config\n",
        "config = {'hidden_size': hidden_size, 'num_of_attention_heads': 12, 'layer_norm_eps': 1e-12\n",
        "          ,'hidden_dropout_prob': 0.1, 'num_hidden_layers': 12\n",
        "          ,\"intermediate_size\": 3072, \"hidden_act\": \"gelu\", \"hidden_dropout_prob\": 0.1, \"attention_probs_dropout_prob\": 0.1\n",
        "          ,\"max_position_embeddings\": max_input_length, \"type_vocab_size\": 2, \"initializer_range\": 0.02,\n",
        "          \"vocab_size\": 30522, \"pad_token_id\": 0}\n",
        "\n"
      ],
      "metadata": {
        "id": "Llf8NFtO77gH"
      },
      "execution_count": null,
      "outputs": []
    },
    {
      "cell_type": "code",
      "source": [
        "for i in train_dataloader:\n",
        "    a = i['input_ids']\n",
        "    emb = BertEmbeddings(config)\n",
        "    sa = BertSelfAttention(config)\n",
        "    emb_out = emb(a)\n",
        "    sa_out = sa(emb_out)\n",
        "    print(sa_out.shape)\n",
        "    break"
      ],
      "metadata": {
        "colab": {
          "base_uri": "https://localhost:8080/"
        },
        "id": "-Hjbir-IIbLY",
        "outputId": "1762b8d5-cf10-40b9-f2bf-2a4187f30741"
      },
      "execution_count": null,
      "outputs": [
        {
          "output_type": "stream",
          "name": "stdout",
          "text": [
            "torch.Size([1, 128, 768])\n"
          ]
        }
      ]
    },
    {
      "cell_type": "code",
      "source": [
        "from tqdm import tqdm\n",
        "def train_epoch(model, data_loader, loss_fn, optimizer, device, scheduler, n_examples):\n",
        "    model = model.train()\n",
        "    losses = []\n",
        "    correct_predictions = 0\n",
        "    count = 0\n",
        "    for d in tqdm(data_loader):\n",
        "        count += 1\n",
        "        input_ids = d[\"input_ids\"].to(device)\n",
        "        labels = d[\"labels\"].to(device)\n",
        "        #print(labels)\n",
        "        outputs = torch.sigmoid(model(input_ids=input_ids))\n",
        "        # Calculate the predictions by thresholding at 0.5\n",
        "        preds = (outputs > 0.5).float()\n",
        "\n",
        "        # Use binary cross-entropy loss for binary classification\n",
        "        loss = loss_fn(outputs, labels.unsqueeze(1).float())\n",
        "        correct_predictions += torch.sum(preds == labels.unsqueeze(1))\n",
        "        optimizer.zero_grad()\n",
        "        losses.append(loss.item())\n",
        "        loss.backward()\n",
        "        nn.utils.clip_grad_norm_(model.parameters(), max_norm=1.0)\n",
        "        optimizer.step()\n",
        "        scheduler.step()\n",
        "    return correct_predictions.cpu().double() / n_examples, np.mean(losses)\n",
        "\n",
        "from transformers import AdamW\n",
        "from transformers import get_scheduler\n",
        "\n",
        "\n",
        "def evaluate(model, data_loader, loss_fn, device, n_examples):\n",
        "    model.eval()\n",
        "    losses = []\n",
        "    correct_predictions = 0\n",
        "    \n",
        "    with torch.no_grad():\n",
        "        for d in data_loader:\n",
        "            input_ids = d[\"input_ids\"].to(device)\n",
        "            labels = d[\"labels\"].to(device)\n",
        "            outputs = torch.sigmoid(model(input_ids=input_ids))\n",
        "            preds = (outputs > 0.5).float()\n",
        "            loss = loss_fn(outputs, labels.unsqueeze(1).float())\n",
        "            correct_predictions += torch.sum(preds == labels.unsqueeze(1))\n",
        "            losses.append(loss.item())\n",
        "    \n",
        "    return correct_predictions.cpu().double() / n_examples, np.mean(losses)\n",
        "\n",
        "def train(model, train_data_loader, val_data_loader, loss_fn, optimizer, device, scheduler, n_examples_train, n_examples_val, n_epochs):\n",
        "    train_accuracies = []\n",
        "    train_losses = []\n",
        "    val_accuracies = []\n",
        "    val_losses = []\n",
        "\n",
        "    for epoch in range(n_epochs):\n",
        "        print(f\"Epoch {epoch + 1}/{n_epochs}\")\n",
        "        print(\"-\" * 10)\n",
        "\n",
        "        train_accuracy, train_loss = train_epoch(model, train_data_loader, loss_fn, optimizer, device, scheduler, n_examples_train)\n",
        "        val_accuracy, val_loss = evaluate(model, val_data_loader, loss_fn, device, n_examples_val)\n",
        "\n",
        "        train_accuracies.append(train_accuracy)\n",
        "        train_losses.append(train_loss)\n",
        "        val_accuracies.append(val_accuracy)\n",
        "        val_losses.append(val_loss)\n",
        "\n",
        "        print(f\"Train Accuracy: {train_accuracy:.4f}, Train Loss: {train_loss:.4f}\")\n",
        "        print(f\"Val Accuracy: {val_accuracy:.4f}, Val Loss: {val_loss:.4f}\")\n",
        "\n",
        "    return {\n",
        "        \"train_accuracies\": train_accuracies,\n",
        "        \"train_losses\": train_losses,\n",
        "        \"val_accuracies\": val_accuracies,\n",
        "        \"val_losses\": val_losses\n",
        "    }\n",
        "\n",
        "train_dataloader = DataLoader(train_dataset, 320)\n",
        "validation_dataloader = DataLoader(validation_dataset, 100)\n",
        "\n",
        "print(len(train_dataloader))\n",
        "print(len(validation_dataloader))\n",
        "\n",
        "device = torch.device('cuda') if torch.cuda.is_available() else torch.device('cpu')\n",
        "model = BertForBinaryClassification(config).to(device)\n",
        "optimizer = AdamW(model.parameters(), lr=5e-5)\n",
        "epochs = 40\n",
        "num_training_steps = epochs * len(train_dataloader)\n",
        "loss_fn = nn.BCELoss().to(device)\n",
        "lr_scheduler = get_scheduler(\n",
        "    \"linear\",\n",
        "    optimizer=optimizer,\n",
        "    num_warmup_steps=0,\n",
        "    num_training_steps=num_training_steps\n",
        ")\n",
        "\n",
        "history = train(model, train_dataloader, validation_dataloader, loss_fn, optimizer, device, lr_scheduler, training_length, validation_length, epochs)\n",
        "\n",
        "import matplotlib.pyplot as plt\n",
        "\n"
      ],
      "metadata": {
        "colab": {
          "base_uri": "https://localhost:8080/"
        },
        "id": "TK8MDahEIZQ6",
        "outputId": "865444b4-0258-4e52-d1fa-2367b768ca67"
      },
      "execution_count": null,
      "outputs": [
        {
          "metadata": {
            "tags": null
          },
          "name": "stdout",
          "output_type": "stream",
          "text": [
            "25\n",
            "20\n"
          ]
        },
        {
          "metadata": {
            "tags": null
          },
          "name": "stderr",
          "output_type": "stream",
          "text": [
            "/usr/local/lib/python3.10/dist-packages/transformers/optimization.py:391: FutureWarning: This implementation of AdamW is deprecated and will be removed in a future version. Use the PyTorch implementation torch.optim.AdamW instead, or set `no_deprecation_warning=True` to disable this warning\n",
            "  warnings.warn(\n"
          ]
        },
        {
          "metadata": {
            "tags": null
          },
          "name": "stdout",
          "output_type": "stream",
          "text": [
            "Epoch 1/40\n",
            "----------\n"
          ]
        },
        {
          "metadata": {
            "tags": null
          },
          "name": "stderr",
          "output_type": "stream",
          "text": [
            "100%|██████████| 25/25 [00:41<00:00,  1.67s/it]\n"
          ]
        },
        {
          "metadata": {
            "tags": null
          },
          "name": "stdout",
          "output_type": "stream",
          "text": [
            "Train Accuracy: 0.6119, Train Loss: 0.7086\n",
            "Val Accuracy: 0.6280, Val Loss: 0.6602\n",
            "Epoch 2/40\n",
            "----------\n"
          ]
        },
        {
          "metadata": {
            "tags": null
          },
          "name": "stderr",
          "output_type": "stream",
          "text": [
            "100%|██████████| 25/25 [00:40<00:00,  1.63s/it]\n"
          ]
        },
        {
          "metadata": {
            "tags": null
          },
          "name": "stdout",
          "output_type": "stream",
          "text": [
            "Train Accuracy: 0.6219, Train Loss: 0.6556\n",
            "Val Accuracy: 0.6245, Val Loss: 0.6598\n",
            "Epoch 3/40\n",
            "----------\n"
          ]
        },
        {
          "metadata": {
            "tags": null
          },
          "name": "stderr",
          "output_type": "stream",
          "text": [
            "100%|██████████| 25/25 [00:40<00:00,  1.63s/it]\n"
          ]
        },
        {
          "metadata": {
            "tags": null
          },
          "name": "stdout",
          "output_type": "stream",
          "text": [
            "Train Accuracy: 0.6266, Train Loss: 0.6463\n",
            "Val Accuracy: 0.6260, Val Loss: 0.6610\n",
            "Epoch 4/40\n",
            "----------\n"
          ]
        },
        {
          "metadata": {
            "tags": null
          },
          "name": "stderr",
          "output_type": "stream",
          "text": [
            "100%|██████████| 25/25 [00:40<00:00,  1.63s/it]\n"
          ]
        },
        {
          "metadata": {
            "tags": null
          },
          "name": "stdout",
          "output_type": "stream",
          "text": [
            "Train Accuracy: 0.6351, Train Loss: 0.6378\n",
            "Val Accuracy: 0.6335, Val Loss: 0.6760\n",
            "Epoch 5/40\n",
            "----------\n"
          ]
        },
        {
          "metadata": {
            "tags": null
          },
          "name": "stderr",
          "output_type": "stream",
          "text": [
            "100%|██████████| 25/25 [00:40<00:00,  1.63s/it]\n"
          ]
        },
        {
          "metadata": {
            "tags": null
          },
          "name": "stdout",
          "output_type": "stream",
          "text": [
            "Train Accuracy: 0.6534, Train Loss: 0.6214\n",
            "Val Accuracy: 0.6410, Val Loss: 0.6757\n",
            "Epoch 6/40\n",
            "----------\n"
          ]
        },
        {
          "metadata": {
            "tags": null
          },
          "name": "stderr",
          "output_type": "stream",
          "text": [
            "100%|██████████| 25/25 [00:40<00:00,  1.64s/it]\n"
          ]
        },
        {
          "metadata": {
            "tags": null
          },
          "name": "stdout",
          "output_type": "stream",
          "text": [
            "Train Accuracy: 0.6796, Train Loss: 0.6016\n",
            "Val Accuracy: 0.6010, Val Loss: 0.6630\n",
            "Epoch 7/40\n",
            "----------\n"
          ]
        },
        {
          "metadata": {
            "tags": null
          },
          "name": "stderr",
          "output_type": "stream",
          "text": [
            "100%|██████████| 25/25 [00:40<00:00,  1.63s/it]\n"
          ]
        },
        {
          "metadata": {
            "tags": null
          },
          "name": "stdout",
          "output_type": "stream",
          "text": [
            "Train Accuracy: 0.7047, Train Loss: 0.5700\n",
            "Val Accuracy: 0.6440, Val Loss: 0.6475\n",
            "Epoch 8/40\n",
            "----------\n"
          ]
        },
        {
          "metadata": {
            "tags": null
          },
          "name": "stderr",
          "output_type": "stream",
          "text": [
            "100%|██████████| 25/25 [00:40<00:00,  1.63s/it]\n"
          ]
        },
        {
          "metadata": {
            "tags": null
          },
          "name": "stdout",
          "output_type": "stream",
          "text": [
            "Train Accuracy: 0.7271, Train Loss: 0.5453\n",
            "Val Accuracy: 0.6365, Val Loss: 0.6880\n",
            "Epoch 9/40\n",
            "----------\n"
          ]
        },
        {
          "metadata": {
            "tags": null
          },
          "name": "stderr",
          "output_type": "stream",
          "text": [
            "100%|██████████| 25/25 [00:40<00:00,  1.63s/it]\n"
          ]
        },
        {
          "metadata": {
            "tags": null
          },
          "name": "stdout",
          "output_type": "stream",
          "text": [
            "Train Accuracy: 0.7528, Train Loss: 0.4989\n",
            "Val Accuracy: 0.6435, Val Loss: 0.7121\n",
            "Epoch 10/40\n",
            "----------\n"
          ]
        },
        {
          "metadata": {
            "tags": null
          },
          "name": "stderr",
          "output_type": "stream",
          "text": [
            "100%|██████████| 25/25 [00:40<00:00,  1.63s/it]\n"
          ]
        },
        {
          "metadata": {
            "tags": null
          },
          "name": "stdout",
          "output_type": "stream",
          "text": [
            "Train Accuracy: 0.7749, Train Loss: 0.4651\n",
            "Val Accuracy: 0.6300, Val Loss: 0.7796\n",
            "Epoch 11/40\n",
            "----------\n"
          ]
        },
        {
          "metadata": {
            "tags": null
          },
          "name": "stderr",
          "output_type": "stream",
          "text": [
            "100%|██████████| 25/25 [00:40<00:00,  1.63s/it]\n"
          ]
        },
        {
          "metadata": {
            "tags": null
          },
          "name": "stdout",
          "output_type": "stream",
          "text": [
            "Train Accuracy: 0.7632, Train Loss: 0.4772\n",
            "Val Accuracy: 0.6215, Val Loss: 0.7870\n",
            "Epoch 12/40\n",
            "----------\n"
          ]
        },
        {
          "metadata": {
            "tags": null
          },
          "name": "stderr",
          "output_type": "stream",
          "text": [
            "100%|██████████| 25/25 [00:40<00:00,  1.63s/it]\n"
          ]
        },
        {
          "metadata": {
            "tags": null
          },
          "name": "stdout",
          "output_type": "stream",
          "text": [
            "Train Accuracy: 0.7876, Train Loss: 0.4408\n",
            "Val Accuracy: 0.6265, Val Loss: 0.8167\n",
            "Epoch 13/40\n",
            "----------\n"
          ]
        },
        {
          "metadata": {
            "tags": null
          },
          "name": "stderr",
          "output_type": "stream",
          "text": [
            "100%|██████████| 25/25 [00:40<00:00,  1.63s/it]\n"
          ]
        },
        {
          "metadata": {
            "tags": null
          },
          "name": "stdout",
          "output_type": "stream",
          "text": [
            "Train Accuracy: 0.7934, Train Loss: 0.4273\n",
            "Val Accuracy: 0.6085, Val Loss: 0.8253\n",
            "Epoch 14/40\n",
            "----------\n"
          ]
        },
        {
          "metadata": {
            "tags": null
          },
          "name": "stderr",
          "output_type": "stream",
          "text": [
            "100%|██████████| 25/25 [00:40<00:00,  1.63s/it]\n"
          ]
        },
        {
          "metadata": {
            "tags": null
          },
          "name": "stdout",
          "output_type": "stream",
          "text": [
            "Train Accuracy: 0.8184, Train Loss: 0.3767\n",
            "Val Accuracy: 0.5900, Val Loss: 0.9494\n",
            "Epoch 15/40\n",
            "----------\n"
          ]
        },
        {
          "metadata": {
            "tags": null
          },
          "name": "stderr",
          "output_type": "stream",
          "text": [
            "100%|██████████| 25/25 [00:40<00:00,  1.63s/it]\n"
          ]
        },
        {
          "metadata": {
            "tags": null
          },
          "name": "stdout",
          "output_type": "stream",
          "text": [
            "Train Accuracy: 0.8341, Train Loss: 0.3562\n",
            "Val Accuracy: 0.6250, Val Loss: 0.9441\n",
            "Epoch 16/40\n",
            "----------\n"
          ]
        },
        {
          "metadata": {
            "tags": null
          },
          "name": "stderr",
          "output_type": "stream",
          "text": [
            "100%|██████████| 25/25 [00:40<00:00,  1.63s/it]\n"
          ]
        },
        {
          "metadata": {
            "tags": null
          },
          "name": "stdout",
          "output_type": "stream",
          "text": [
            "Train Accuracy: 0.8472, Train Loss: 0.3305\n",
            "Val Accuracy: 0.6220, Val Loss: 1.0407\n",
            "Epoch 17/40\n",
            "----------\n"
          ]
        },
        {
          "metadata": {
            "tags": null
          },
          "name": "stderr",
          "output_type": "stream",
          "text": [
            "100%|██████████| 25/25 [00:40<00:00,  1.63s/it]\n"
          ]
        },
        {
          "metadata": {
            "tags": null
          },
          "name": "stdout",
          "output_type": "stream",
          "text": [
            "Train Accuracy: 0.8564, Train Loss: 0.3136\n",
            "Val Accuracy: 0.6165, Val Loss: 0.9779\n",
            "Epoch 18/40\n",
            "----------\n"
          ]
        },
        {
          "metadata": {
            "tags": null
          },
          "name": "stderr",
          "output_type": "stream",
          "text": [
            "100%|██████████| 25/25 [00:40<00:00,  1.63s/it]\n"
          ]
        },
        {
          "metadata": {
            "tags": null
          },
          "name": "stdout",
          "output_type": "stream",
          "text": [
            "Train Accuracy: 0.8641, Train Loss: 0.2906\n",
            "Val Accuracy: 0.6080, Val Loss: 1.0876\n",
            "Epoch 19/40\n",
            "----------\n"
          ]
        },
        {
          "metadata": {
            "tags": null
          },
          "name": "stderr",
          "output_type": "stream",
          "text": [
            "100%|██████████| 25/25 [00:40<00:00,  1.64s/it]\n"
          ]
        },
        {
          "metadata": {
            "tags": null
          },
          "name": "stdout",
          "output_type": "stream",
          "text": [
            "Train Accuracy: 0.8718, Train Loss: 0.2802\n",
            "Val Accuracy: 0.6115, Val Loss: 1.0340\n",
            "Epoch 20/40\n",
            "----------\n"
          ]
        },
        {
          "metadata": {
            "tags": null
          },
          "name": "stderr",
          "output_type": "stream",
          "text": [
            "100%|██████████| 25/25 [00:40<00:00,  1.63s/it]\n"
          ]
        },
        {
          "metadata": {
            "tags": null
          },
          "name": "stdout",
          "output_type": "stream",
          "text": [
            "Train Accuracy: 0.8730, Train Loss: 0.2803\n",
            "Val Accuracy: 0.6195, Val Loss: 1.1154\n",
            "Epoch 21/40\n",
            "----------\n"
          ]
        },
        {
          "metadata": {
            "tags": null
          },
          "name": "stderr",
          "output_type": "stream",
          "text": [
            "100%|██████████| 25/25 [00:40<00:00,  1.63s/it]\n"
          ]
        },
        {
          "metadata": {
            "tags": null
          },
          "name": "stdout",
          "output_type": "stream",
          "text": [
            "Train Accuracy: 0.8832, Train Loss: 0.2605\n",
            "Val Accuracy: 0.6225, Val Loss: 1.1639\n",
            "Epoch 22/40\n",
            "----------\n"
          ]
        },
        {
          "metadata": {
            "tags": null
          },
          "name": "stderr",
          "output_type": "stream",
          "text": [
            "100%|██████████| 25/25 [00:40<00:00,  1.63s/it]\n"
          ]
        },
        {
          "metadata": {
            "tags": null
          },
          "name": "stdout",
          "output_type": "stream",
          "text": [
            "Train Accuracy: 0.8920, Train Loss: 0.2394\n",
            "Val Accuracy: 0.6210, Val Loss: 1.1698\n",
            "Epoch 23/40\n",
            "----------\n"
          ]
        },
        {
          "metadata": {
            "tags": null
          },
          "name": "stderr",
          "output_type": "stream",
          "text": [
            "100%|██████████| 25/25 [00:40<00:00,  1.63s/it]\n"
          ]
        },
        {
          "metadata": {
            "tags": null
          },
          "name": "stdout",
          "output_type": "stream",
          "text": [
            "Train Accuracy: 0.8994, Train Loss: 0.2234\n",
            "Val Accuracy: 0.6210, Val Loss: 1.2363\n",
            "Epoch 24/40\n",
            "----------\n"
          ]
        },
        {
          "metadata": {
            "tags": null
          },
          "name": "stderr",
          "output_type": "stream",
          "text": [
            "100%|██████████| 25/25 [00:40<00:00,  1.63s/it]\n"
          ]
        },
        {
          "metadata": {
            "tags": null
          },
          "name": "stdout",
          "output_type": "stream",
          "text": [
            "Train Accuracy: 0.9029, Train Loss: 0.2199\n",
            "Val Accuracy: 0.6235, Val Loss: 1.2610\n",
            "Epoch 25/40\n",
            "----------\n"
          ]
        },
        {
          "metadata": {
            "tags": null
          },
          "name": "stderr",
          "output_type": "stream",
          "text": [
            "100%|██████████| 25/25 [00:40<00:00,  1.63s/it]\n"
          ]
        },
        {
          "metadata": {
            "tags": null
          },
          "name": "stdout",
          "output_type": "stream",
          "text": [
            "Train Accuracy: 0.9073, Train Loss: 0.2045\n",
            "Val Accuracy: 0.6035, Val Loss: 1.2712\n",
            "Epoch 26/40\n",
            "----------\n"
          ]
        },
        {
          "metadata": {
            "tags": null
          },
          "name": "stderr",
          "output_type": "stream",
          "text": [
            "100%|██████████| 25/25 [00:40<00:00,  1.63s/it]\n"
          ]
        },
        {
          "metadata": {
            "tags": null
          },
          "name": "stdout",
          "output_type": "stream",
          "text": [
            "Train Accuracy: 0.9189, Train Loss: 0.1892\n",
            "Val Accuracy: 0.6145, Val Loss: 1.2956\n",
            "Epoch 27/40\n",
            "----------\n"
          ]
        },
        {
          "metadata": {
            "tags": null
          },
          "name": "stderr",
          "output_type": "stream",
          "text": [
            "100%|██████████| 25/25 [00:40<00:00,  1.63s/it]\n"
          ]
        },
        {
          "metadata": {
            "tags": null
          },
          "name": "stdout",
          "output_type": "stream",
          "text": [
            "Train Accuracy: 0.9223, Train Loss: 0.1731\n",
            "Val Accuracy: 0.6275, Val Loss: 1.4256\n",
            "Epoch 28/40\n",
            "----------\n"
          ]
        },
        {
          "output_type": "stream",
          "name": "stderr",
          "text": [
            "100%|██████████| 25/25 [00:40<00:00,  1.63s/it]\n"
          ]
        },
        {
          "output_type": "stream",
          "name": "stdout",
          "text": [
            "Train Accuracy: 0.9295, Train Loss: 0.1627\n",
            "Val Accuracy: 0.6175, Val Loss: 1.4608\n",
            "Epoch 29/40\n",
            "----------\n"
          ]
        },
        {
          "output_type": "stream",
          "name": "stderr",
          "text": [
            "100%|██████████| 25/25 [00:40<00:00,  1.63s/it]\n"
          ]
        },
        {
          "output_type": "stream",
          "name": "stdout",
          "text": [
            "Train Accuracy: 0.9373, Train Loss: 0.1494\n",
            "Val Accuracy: 0.6180, Val Loss: 1.4246\n",
            "Epoch 30/40\n",
            "----------\n"
          ]
        },
        {
          "output_type": "stream",
          "name": "stderr",
          "text": [
            "100%|██████████| 25/25 [00:40<00:00,  1.63s/it]\n"
          ]
        },
        {
          "output_type": "stream",
          "name": "stdout",
          "text": [
            "Train Accuracy: 0.9379, Train Loss: 0.1459\n",
            "Val Accuracy: 0.6150, Val Loss: 1.5017\n",
            "Epoch 31/40\n",
            "----------\n"
          ]
        },
        {
          "output_type": "stream",
          "name": "stderr",
          "text": [
            "100%|██████████| 25/25 [00:40<00:00,  1.63s/it]\n"
          ]
        },
        {
          "output_type": "stream",
          "name": "stdout",
          "text": [
            "Train Accuracy: 0.9369, Train Loss: 0.1446\n",
            "Val Accuracy: 0.6075, Val Loss: 1.5231\n",
            "Epoch 32/40\n",
            "----------\n"
          ]
        },
        {
          "output_type": "stream",
          "name": "stderr",
          "text": [
            "100%|██████████| 25/25 [00:40<00:00,  1.63s/it]\n"
          ]
        },
        {
          "output_type": "stream",
          "name": "stdout",
          "text": [
            "Train Accuracy: 0.9433, Train Loss: 0.1349\n",
            "Val Accuracy: 0.6145, Val Loss: 1.5363\n",
            "Epoch 33/40\n",
            "----------\n"
          ]
        },
        {
          "output_type": "stream",
          "name": "stderr",
          "text": [
            "100%|██████████| 25/25 [00:40<00:00,  1.63s/it]\n"
          ]
        },
        {
          "output_type": "stream",
          "name": "stdout",
          "text": [
            "Train Accuracy: 0.9504, Train Loss: 0.1204\n",
            "Val Accuracy: 0.6125, Val Loss: 1.6135\n",
            "Epoch 34/40\n",
            "----------\n"
          ]
        },
        {
          "output_type": "stream",
          "name": "stderr",
          "text": [
            "100%|██████████| 25/25 [00:40<00:00,  1.63s/it]\n"
          ]
        },
        {
          "output_type": "stream",
          "name": "stdout",
          "text": [
            "Train Accuracy: 0.9496, Train Loss: 0.1202\n",
            "Val Accuracy: 0.6210, Val Loss: 1.5419\n",
            "Epoch 35/40\n",
            "----------\n"
          ]
        },
        {
          "output_type": "stream",
          "name": "stderr",
          "text": [
            "100%|██████████| 25/25 [00:40<00:00,  1.63s/it]\n"
          ]
        },
        {
          "output_type": "stream",
          "name": "stdout",
          "text": [
            "Train Accuracy: 0.9500, Train Loss: 0.1156\n",
            "Val Accuracy: 0.6215, Val Loss: 1.5809\n",
            "Epoch 36/40\n",
            "----------\n"
          ]
        },
        {
          "output_type": "stream",
          "name": "stderr",
          "text": [
            "100%|██████████| 25/25 [00:40<00:00,  1.63s/it]\n"
          ]
        },
        {
          "output_type": "stream",
          "name": "stdout",
          "text": [
            "Train Accuracy: 0.9499, Train Loss: 0.1226\n",
            "Val Accuracy: 0.6210, Val Loss: 1.5494\n",
            "Epoch 37/40\n",
            "----------\n"
          ]
        },
        {
          "output_type": "stream",
          "name": "stderr",
          "text": [
            "100%|██████████| 25/25 [00:40<00:00,  1.63s/it]\n"
          ]
        },
        {
          "output_type": "stream",
          "name": "stdout",
          "text": [
            "Train Accuracy: 0.9536, Train Loss: 0.1101\n",
            "Val Accuracy: 0.6235, Val Loss: 1.5754\n",
            "Epoch 38/40\n",
            "----------\n"
          ]
        },
        {
          "output_type": "stream",
          "name": "stderr",
          "text": [
            "100%|██████████| 25/25 [00:40<00:00,  1.63s/it]\n"
          ]
        },
        {
          "output_type": "stream",
          "name": "stdout",
          "text": [
            "Train Accuracy: 0.9596, Train Loss: 0.0997\n",
            "Val Accuracy: 0.6225, Val Loss: 1.6172\n",
            "Epoch 39/40\n",
            "----------\n"
          ]
        },
        {
          "output_type": "stream",
          "name": "stderr",
          "text": [
            "100%|██████████| 25/25 [00:40<00:00,  1.63s/it]\n"
          ]
        },
        {
          "output_type": "stream",
          "name": "stdout",
          "text": [
            "Train Accuracy: 0.9595, Train Loss: 0.0984\n",
            "Val Accuracy: 0.6265, Val Loss: 1.6185\n",
            "Epoch 40/40\n",
            "----------\n"
          ]
        },
        {
          "output_type": "stream",
          "name": "stderr",
          "text": [
            "100%|██████████| 25/25 [00:40<00:00,  1.63s/it]\n"
          ]
        },
        {
          "output_type": "stream",
          "name": "stdout",
          "text": [
            "Train Accuracy: 0.9655, Train Loss: 0.0916\n",
            "Val Accuracy: 0.6245, Val Loss: 1.6358\n"
          ]
        }
      ]
    },
    {
      "cell_type": "code",
      "source": [
        "print(history)"
      ],
      "metadata": {
        "colab": {
          "base_uri": "https://localhost:8080/"
        },
        "id": "WSmADXSzMt9I",
        "outputId": "c3b453dd-65c6-4a42-ee91-607ae0dc3b66"
      },
      "execution_count": null,
      "outputs": [
        {
          "output_type": "stream",
          "name": "stdout",
          "text": [
            "{'train_accuracies': [tensor(0.6119, dtype=torch.float64), tensor(0.6219, dtype=torch.float64), tensor(0.6266, dtype=torch.float64), tensor(0.6351, dtype=torch.float64), tensor(0.6534, dtype=torch.float64), tensor(0.6796, dtype=torch.float64), tensor(0.7047, dtype=torch.float64), tensor(0.7271, dtype=torch.float64), tensor(0.7528, dtype=torch.float64), tensor(0.7749, dtype=torch.float64), tensor(0.7632, dtype=torch.float64), tensor(0.7876, dtype=torch.float64), tensor(0.7934, dtype=torch.float64), tensor(0.8184, dtype=torch.float64), tensor(0.8341, dtype=torch.float64), tensor(0.8472, dtype=torch.float64), tensor(0.8564, dtype=torch.float64), tensor(0.8641, dtype=torch.float64), tensor(0.8718, dtype=torch.float64), tensor(0.8730, dtype=torch.float64), tensor(0.8832, dtype=torch.float64), tensor(0.8920, dtype=torch.float64), tensor(0.8994, dtype=torch.float64), tensor(0.9029, dtype=torch.float64), tensor(0.9073, dtype=torch.float64), tensor(0.9189, dtype=torch.float64), tensor(0.9223, dtype=torch.float64), tensor(0.9295, dtype=torch.float64), tensor(0.9373, dtype=torch.float64), tensor(0.9379, dtype=torch.float64), tensor(0.9369, dtype=torch.float64), tensor(0.9433, dtype=torch.float64), tensor(0.9504, dtype=torch.float64), tensor(0.9496, dtype=torch.float64), tensor(0.9500, dtype=torch.float64), tensor(0.9499, dtype=torch.float64), tensor(0.9536, dtype=torch.float64), tensor(0.9596, dtype=torch.float64), tensor(0.9595, dtype=torch.float64), tensor(0.9655, dtype=torch.float64)], 'train_losses': [0.70863760471344, 0.6555768513679504, 0.6463301968574524, 0.6378430294990539, 0.6214422917366028, 0.6016444826126098, 0.5699844002723694, 0.5453053116798401, 0.49885124087333677, 0.4651114296913147, 0.4772404634952545, 0.4407630980014801, 0.427269766330719, 0.3767010736465454, 0.3561523234844208, 0.3305076277256012, 0.31357847452163695, 0.2906478214263916, 0.28022094011306764, 0.2803263658285141, 0.2605226320028305, 0.2394322770833969, 0.22341922760009766, 0.21991312086582185, 0.20449135601520538, 0.18923333346843718, 0.1730951961874962, 0.1627349177002907, 0.14938514173030853, 0.145877488553524, 0.14459092676639557, 0.13492930352687835, 0.1203500859439373, 0.12017246156930923, 0.11557258903980255, 0.12263668954372406, 0.11005209773778915, 0.09973064914345742, 0.09836323738098145, 0.09163503214716912], 'val_accuracies': [tensor(0.6280, dtype=torch.float64), tensor(0.6245, dtype=torch.float64), tensor(0.6260, dtype=torch.float64), tensor(0.6335, dtype=torch.float64), tensor(0.6410, dtype=torch.float64), tensor(0.6010, dtype=torch.float64), tensor(0.6440, dtype=torch.float64), tensor(0.6365, dtype=torch.float64), tensor(0.6435, dtype=torch.float64), tensor(0.6300, dtype=torch.float64), tensor(0.6215, dtype=torch.float64), tensor(0.6265, dtype=torch.float64), tensor(0.6085, dtype=torch.float64), tensor(0.5900, dtype=torch.float64), tensor(0.6250, dtype=torch.float64), tensor(0.6220, dtype=torch.float64), tensor(0.6165, dtype=torch.float64), tensor(0.6080, dtype=torch.float64), tensor(0.6115, dtype=torch.float64), tensor(0.6195, dtype=torch.float64), tensor(0.6225, dtype=torch.float64), tensor(0.6210, dtype=torch.float64), tensor(0.6210, dtype=torch.float64), tensor(0.6235, dtype=torch.float64), tensor(0.6035, dtype=torch.float64), tensor(0.6145, dtype=torch.float64), tensor(0.6275, dtype=torch.float64), tensor(0.6175, dtype=torch.float64), tensor(0.6180, dtype=torch.float64), tensor(0.6150, dtype=torch.float64), tensor(0.6075, dtype=torch.float64), tensor(0.6145, dtype=torch.float64), tensor(0.6125, dtype=torch.float64), tensor(0.6210, dtype=torch.float64), tensor(0.6215, dtype=torch.float64), tensor(0.6210, dtype=torch.float64), tensor(0.6235, dtype=torch.float64), tensor(0.6225, dtype=torch.float64), tensor(0.6265, dtype=torch.float64), tensor(0.6245, dtype=torch.float64)], 'val_losses': [0.6602233469486236, 0.6597990900278091, 0.6610192835330964, 0.6759610116481781, 0.6756907910108566, 0.6629501610994339, 0.6474678337574005, 0.6880292862653732, 0.7121476978063583, 0.7795902550220489, 0.7869932353496552, 0.8166636139154434, 0.8253044635057449, 0.9494208782911301, 0.9441080987453461, 1.0406774580478668, 0.9779445976018906, 1.0875518262386321, 1.0340489119291305, 1.1154117047786714, 1.1639206945896148, 1.169785314798355, 1.2363476544618606, 1.2610223710536956, 1.2712431102991104, 1.2956047266721726, 1.4255908370018004, 1.460774314403534, 1.4246436476707458, 1.5017284601926804, 1.5231329023838043, 1.5362921953201294, 1.6134948909282685, 1.541852992773056, 1.5808504819869995, 1.5493663370609283, 1.5753812193870544, 1.6172418594360352, 1.6184528589248657, 1.6358131766319275]}\n"
          ]
        }
      ]
    },
    {
      "cell_type": "code",
      "source": [
        "def plot_metrics(history):\n",
        "    train_accuracies = history['train_accuracies']\n",
        "    train_losses = history['train_losses']\n",
        "    val_accuracies = history['val_accuracies']\n",
        "    val_losses = history['val_losses']\n",
        "    epochs = range(1, len(train_accuracies) + 1)\n",
        "\n",
        "\n",
        "    plt.figure(figsize=(12, 5))\n",
        "\n",
        "    plt.suptitle('Trainable AliBi', fontsize=16, y=1.05)\n",
        "\n",
        "    # Plot accuracies\n",
        "    plt.subplot(1, 2, 1)\n",
        "    plt.plot(epochs, train_accuracies, label='Train', marker='o')\n",
        "    plt.plot(epochs, val_accuracies, label='Validation', marker='o')\n",
        "    plt.xlabel('Epochs')\n",
        "    plt.ylabel('Accuracy')\n",
        "    plt.legend()\n",
        "    plt.title('Training and Validation Accuracy')\n",
        "\n",
        "    # Plot losses\n",
        "    plt.subplot(1, 2, 2)\n",
        "    plt.plot(epochs, train_losses, label='Train', marker='o')\n",
        "    plt.plot(epochs, val_losses, label='Validation', marker='o')\n",
        "    plt.xlabel('Epochs')\n",
        "    plt.ylabel('Loss')\n",
        "    plt.legend()\n",
        "    plt.title('Training and Validation Loss')\n",
        "\n",
        "    plt.show()\n",
        "\n",
        "plot_metrics(history)"
      ],
      "metadata": {
        "colab": {
          "base_uri": "https://localhost:8080/",
          "height": 540
        },
        "id": "VUJG5H6zWbwv",
        "outputId": "d5ac0850-9d63-4f2c-a839-e46a32d48cf4"
      },
      "execution_count": null,
      "outputs": [
        {
          "output_type": "display_data",
          "data": {
            "text/plain": [
              "<Figure size 1200x500 with 2 Axes>"
            ],
            "image/png": "[encoded data removed]"
          },
          "metadata": {}
        }
      ]
    },
    {
      "cell_type": "code",
      "source": [],
      "metadata": {
        "id": "7VRrAwBtWezC"
      },
      "execution_count": null,
      "outputs": []
    },
    {
      "cell_type": "markdown",
      "source": [],
      "metadata": {
        "id": "gIsbtavxR4eN"
      }
    }
  ]
}